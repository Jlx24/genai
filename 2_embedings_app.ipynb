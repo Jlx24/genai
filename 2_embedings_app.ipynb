{
  "cells": [
    {
      "cell_type": "markdown",
      "metadata": {
        "id": "sw-SXJfttLzk"
      },
      "source": [
        "This series aims to demystify embeddings and show you how to use them in your projects. This first blog post will teach you how to use and scale up open-source embedding models. We’ll look into the criteria for picking an existing model, current evaluation methods, and the state of the ecosystem. We’ll look into three exciting applications:\n",
        "\n",
        "\n",
        "* Finding the most similar Quora or StackOverflow questions\n",
        "* Given a huge dataset, find the most similar items\n",
        "* Running search embedding models directly in the users’ browser (no server required)\n",
        "\n",
        "You can either read the content here or execute it in Google Colab by clicking the badge at the top of the page. Let’s dive into embeddings!"
      ]
    },
    {
      "cell_type": "markdown",
      "metadata": {
        "id": "YXJQr0OjtLzm"
      },
      "source": [
        "## The TL;DR\n",
        "\n",
        "You keep reading about \"embeddings this\" and \"embeddings that\", but you might still not know exactly what they are. You are not alone! Even if you have a vague idea of what embeddings are, you might use them through a black-box API without really understanding what’s going on under the hood. This is a problem because the current state of open-source embedding models is very strong - they are pretty easy to deploy, small (and hence cheap to host), and outperform many closed-source models.\n",
        "\n",
        "An embedding represents information as a vector of numbers (think of it as a list!). For example, we can obtain the embedding of a word, a sentence, a document, an image, an audio file, etc. Given the sentence “Today is a sunny day”, we can obtain its embedding, which would be a vector of a specific size, such as 384 numbers (such vector could look like [0.32, 0.42, 0.15, …, 0.72]). What is interesting is that the **embeddings capture the semantic meaning of the information**. For example, embedding the sentence “Today is a sunny day” will be very similar to that of the sentence “The weather is nice today”. Even if the words are different, the meaning is similar, and the embeddings will reflect that.\n",
        "\n",
        ":::callout\n",
        "\n",
        "If you’re not sure what words such as “vector”, “semantic similarity”, the vector size, or “pretrained” mean, don’t worry! We’ll explain them in the following sections. Focus on the high-level understanding first.\n",
        "\n",
        ":::\n",
        "\n",
        "So, this vector captures the semantic meaning of the information, making it easier to compare to each other. For example, we can use embeddings to find similar questions in Quora or StackOverflow, search code, find similar images, etc. Let’s look into some code!"
      ]
    },
    {
      "cell_type": "markdown",
      "metadata": {
        "id": "8OpGiK7vtLzm"
      },
      "source": [
        "We’ll use Sentence Transformers, an open-source library that makes it easy to use pre-trained embedding models. In particular, ST allows us to turn sentences into embeddings quickly. Let’s run an example and then discuss how it works under the hood.\n",
        "\n",
        "Let's begin by installing the library:"
      ]
    },
    {
      "cell_type": "code",
      "execution_count": 1,
      "metadata": {
        "id": "XXlv_ZKItLzn"
      },
      "outputs": [],
      "source": [
        "%%capture\n",
        "!pip install sentence_transformers"
      ]
    },
    {
      "cell_type": "markdown",
      "metadata": {
        "id": "wuAD8ypEtLzp"
      },
      "source": [
        "The second step is to load an existing model. We'll start using [all-MiniLM-L6-v2](https://huggingface.co/sentence-transformers/all-MiniLM-L6-v2). It's not the best open-source embedding model, but it's quite popular and very small (23 million parameters), which means we can get started with it very quickly."
      ]
    },
    {
      "cell_type": "code",
      "execution_count": 2,
      "metadata": {
        "id": "gOniyP5TtLzp"
      },
      "outputs": [],
      "source": [
        "from sentence_transformers import SentenceTransformer\n",
        "\n",
        "model = SentenceTransformer(\"sentence-transformers/all-MiniLM-L6-v2\")"
      ]
    },
    {
      "cell_type": "markdown",
      "metadata": {
        "id": "c0VmakBttLzq"
      },
      "source": [
        "Now that we loaded a model, let's use it to encode some sentences. We can use the `encode` method to obtain the embeddings of a list of sentences. Let's try it out!"
      ]
    },
    {
      "cell_type": "code",
      "execution_count": 3,
      "metadata": {
        "id": "Nyqb9qPztLzq",
        "outputId": "9764431b-d548-4835-caa3-da2898a3b95f"
      },
      "outputs": [
        {
          "data": {
            "text/plain": [
              "(3, 384)"
            ]
          },
          "execution_count": 3,
          "metadata": {},
          "output_type": "execute_result"
        }
      ],
      "source": [
        "from sentence_transformers import util\n",
        "\n",
        "sentences = [\"The weather today is beautiful\", \"It's raining!\", \"Dogs are awesome\"]\n",
        "embeddings = model.encode(sentences)\n",
        "embeddings.shape"
      ]
    },
    {
      "cell_type": "markdown",
      "metadata": {
        "id": "6KjYJJegtLzs"
      },
      "source": [
        "all-MiniLM-L6-v2 creates embeddings of 384 values. We obtain three embeddings, one for each sentence. Think of `embeddings` as a \"database\" of embeddings. Given a new sentence, how can we find the most similar sentence? We can use the `util.pytorch_cos_sim` method to compute the cosine similarity (we'll talk more about it soon) between the new sentence embedding and all the embeddings in the database. The cosine similarity is a number between 0 and 1 that indicates how similar two embeddings are. A value of 1 means that the embeddings are identical, while 0 means that the embeddings are entirely different. Let’s try it out!"
      ]
    },
    {
      "cell_type": "code",
      "execution_count": 4,
      "metadata": {
        "id": "Qtb8_VcHtLzs",
        "outputId": "fdf93e03-8568-4eb1-b2b2-72e0d74e94e2"
      },
      "outputs": [
        {
          "name": "stdout",
          "output_type": "stream",
          "text": [
            "tensor([[0.7344]]) The weather today is beautiful\n",
            "tensor([[0.4180]]) It's raining!\n",
            "tensor([[0.1060]]) Dogs are awesome\n"
          ]
        }
      ],
      "source": [
        "first_embedding = model.encode(\"Today is a sunny day\")\n",
        "for embedding, sentence in zip(embeddings, sentences):\n",
        "    similarity = util.pytorch_cos_sim(first_embedding, embedding)\n",
        "    print(similarity, sentence)"
      ]
    },
    {
      "cell_type": "markdown",
      "metadata": {
        "id": "JPX-_nQmtLzu"
      },
      "source": [
        "What can we interpret of this? Although “today is a sunny day” and “the weather today is beautiful” don’t have the same words, the embeddings can capture some semantic meaning, so the cosine similarity is relatively high. On the other hand, “Dogs are awesome”, although true, has nothing to do with the weather or today; hence, the cosine similarity is very low.\n",
        "\n",
        "To expand on this idea of similar embeddings, let’s look into how they could be used in a product. Imagine that U.S. Social Security would like to allow users to write Medicare-related questions in an input field. This topic is very sensitive, and we likely don’t want a model to hallucinate with something unrelated! Instead, we can leverage a database of questions (in this case, there’s an existing Medicare FAQ). The process is similar to the above\"\n",
        "\n",
        "1. We have a corpus (collection) of questions and answers.\n",
        "2. We compute the embeddings of all the questions.\n",
        "3. Given a new question, we compute its embedding.\n",
        "4. We compute the cosine similarity between the new question embedding and all the embeddings in the database.\n",
        "5. We return the most similar question (which is associated with the most similar embedding).\n",
        "\n",
        "Steps 1 and 2 can be done offline (that is, we compute the embeddings only once and store them). The rest of the steps can be done at search time (each time a user asks a question). Let’s see what this would look like in code."
      ]
    },
    {
      "cell_type": "markdown",
      "metadata": {
        "id": "8WyDMskGtLzu"
      },
      "source": [
        "[![Representation of embeddings in two dimensions](https://github.com/osanseviero/hackerllama/blob/main/nbs/blog/posts/sentence_embeddings/embedding.png?raw=1)](https://huggingface.co/spaces/sentence-transformers/embeddings-semantic-search)"
      ]
    },
    {
      "cell_type": "markdown",
      "metadata": {
        "id": "Ps4Qd-HxtLzv"
      },
      "source": [
        " Let’s first create our map of frequently asked questions."
      ]
    },
    {
      "cell_type": "code",
      "execution_count": 5,
      "metadata": {
        "id": "bHEOByVwtLzv"
      },
      "outputs": [],
      "source": [
        "# Data from https://faq.ssa.gov/en-US/topic/?id=CAT-01092\n",
        "\n",
        "faq = {\n",
        "    \"How do I get a replacement Medicare card?\": \"If your Medicare card was lost, stolen, or destroyed, you can request a replacement online at Medicare.gov.\",\n",
        "    \"How do I sign up for Medicare?\": \"If you already get Social Security benefits, you do not need to sign up for Medicare. We will automatically enroll you in Original Medicare (Part A and Part B) when you become eligible. We will mail you the information a few months before you become eligible.\",\n",
        "    \"What are Medicare late enrollment penalties?\": \"In most cases, if you don’t sign up for Medicare when you’re first eligible, you may have to pay a higher monthly premium. Find more information at https://faq.ssa.gov/en-us/Topic/article/KA-02995\",\n",
        "    \"Will my Medicare premiums be higher because of my higher income?\": \"Some people with higher income may pay a larger percentage of their monthly Medicare Part B and prescription drug costs based on their income. We call the additional amount the income-related monthly adjustment amount.\",\n",
        "    \"What is Medicare and who can get it?\": \"Medicare is a health insurance program for people age 65 or older. Some younger people are eligible for Medicare including people with disabilities, permanent kidney failure and amyotrophic lateral sclerosis (Lou Gehrig’s disease or ALS). Medicare helps with the cost of health care, but it does not cover all medical expenses or the cost of most long-term care.\",\n",
        "}"
      ]
    },
    {
      "cell_type": "markdown",
      "metadata": {
        "id": "Jss5PXDctLzv"
      },
      "source": [
        "Once again, we use the `encode` method to obtain the embeddings of all the questions."
      ]
    },
    {
      "cell_type": "code",
      "execution_count": 6,
      "metadata": {
        "id": "7n_HIfBTtLzw",
        "outputId": "a51eac42-8e23-407b-808f-21ffcc4df8b9"
      },
      "outputs": [
        {
          "name": "stdout",
          "output_type": "stream",
          "text": [
            "(5, 384)\n"
          ]
        }
      ],
      "source": [
        "corpus_embeddings = model.encode(list(faq.keys()))\n",
        "print(corpus_embeddings.shape)"
      ]
    },
    {
      "cell_type": "markdown",
      "metadata": {
        "id": "00_2gjDWtLzx"
      },
      "source": [
        "Once a user asks a question, we obtain its embedding. We usually refer to this embedding as the query embedding."
      ]
    },
    {
      "cell_type": "code",
      "execution_count": 7,
      "metadata": {
        "id": "_lhmw-I4tLzx",
        "outputId": "bd1ad5cd-5261-4bcc-832f-4af1a43692c1"
      },
      "outputs": [
        {
          "data": {
            "text/plain": [
              "(384,)"
            ]
          },
          "execution_count": 7,
          "metadata": {},
          "output_type": "execute_result"
        }
      ],
      "source": [
        "user_question = \"Do I need to pay more after a raise?\"\n",
        "query_embedding = model.encode(user_question)\n",
        "query_embedding.shape"
      ]
    },
    {
      "cell_type": "markdown",
      "metadata": {
        "id": "sF8-JizutLzx"
      },
      "source": [
        "We can now compute the similarity between the corpus embeddings and the query embedding. We could have a loop and use `util.pytorch.cos_sim` as we did before, but Sentence Transformers provides an even friendlier method called `semantic_search` that does all the work for us. It returns the top-k most similar embeddings  and their similarity score. Let's try it out!"
      ]
    },
    {
      "cell_type": "code",
      "execution_count": 8,
      "metadata": {
        "id": "Rqe1hOIQtLzy",
        "outputId": "6a3b94fd-dd93-400a-8e7c-37ca300e0170"
      },
      "outputs": [
        {
          "data": {
            "text/plain": [
              "[[{'corpus_id': 3, 'score': 0.4642062187194824},\n",
              "  {'corpus_id': 4, 'score': 0.11628509312868118},\n",
              "  {'corpus_id': 2, 'score': 0.09916296601295471}]]"
            ]
          },
          "execution_count": 8,
          "metadata": {},
          "output_type": "execute_result"
        }
      ],
      "source": [
        "similarities = util.semantic_search(query_embedding, corpus_embeddings, top_k=3)\n",
        "similarities"
      ]
    },
    {
      "cell_type": "markdown",
      "metadata": {
        "id": "jkrXLL0mtLzy"
      },
      "source": [
        "Let’s now look at which questions and answers this corresponds to:"
      ]
    },
    {
      "cell_type": "code",
      "execution_count": 9,
      "metadata": {
        "id": "Nb_f9xBEtLzy",
        "outputId": "bd23645d-3220-4a4b-d244-47e1236d3ab7"
      },
      "outputs": [
        {
          "name": "stdout",
          "output_type": "stream",
          "text": [
            "Top 1 question (p=0.4642062187194824): Will my Medicare premiums be higher because of my higher income?\n",
            "Answer: Some people with higher income may pay a larger percentage of their monthly Medicare Part B and prescription drug costs based on their income. We call the additional amount the income-related monthly adjustment amount.\n",
            "Top 2 question (p=0.11628509312868118): What is Medicare and who can get it?\n",
            "Answer: Medicare is a health insurance program for people age 65 or older. Some younger people are eligible for Medicare including people with disabilities, permanent kidney failure and amyotrophic lateral sclerosis (Lou Gehrig’s disease or ALS). Medicare helps with the cost of health care, but it does not cover all medical expenses or the cost of most long-term care.\n",
            "Top 3 question (p=0.09916296601295471): What are Medicare late enrollment penalties?\n",
            "Answer: In most cases, if you don’t sign up for Medicare when you’re first eligible, you may have to pay a higher monthly premium. Find more information at https://faq.ssa.gov/en-us/Topic/article/KA-02995\n"
          ]
        }
      ],
      "source": [
        "for i, result in enumerate(similarities[0]):\n",
        "    corpus_id = result[\"corpus_id\"]\n",
        "    score = result[\"score\"]\n",
        "    print(f\"Top {i+1} question (p={score}): {list(faq.keys())[corpus_id]}\")\n",
        "    print(f\"Answer: {list(faq.values())[corpus_id]}\")"
      ]
    },
    {
      "cell_type": "markdown",
      "metadata": {
        "id": "uFs9pyzJtLzz"
      },
      "source": [
        "Great, so given the question \"Do I need to pay more after a raise?\", we know that the most similar question is \"Will my Medicare premiums be higher because of my higher income?\" and hence we can return the provided answer. In practice, you would likely have thousands to millions of embeddings, but this was a simple yet powerful example of how embeddings can be used to find similar questions."
      ]
    },
    {
      "cell_type": "markdown",
      "metadata": {
        "id": "kMpeFBe6tLzz"
      },
      "source": [
        "Now that we better understand what embeddings are and how they can be used, let’s do a deeper dive into them!"
      ]
    },
    {
      "cell_type": "markdown",
      "metadata": {
        "id": "cY-AUoxjtLzz"
      },
      "source": [
        "## From word embeddings to sentence embeddings\n",
        "\n",
        "### Word2Vec and GloVe\n",
        "\n",
        "It’s time to take a step back and learn more about embeddings and why they are needed. Neural networks, such as BERT, are not able to process words directly; they need numbers. And the way to provide words is to represent them as vectors, also called word embeddings.\n",
        "\n",
        "In the traditional setup, you define a vocabulary (which words are allowed), and then each word in this vocabulary has an assigned embedding. Words not in the vocabulary are mapped to a special token, usually called <UNK> (a standard placeholder for words not found during training). For example, let’s say we have a vocabulary of three words, and we assign each word a vector of size five. We could have the following embeddings:\n",
        "\n",
        "| Word | Embedding |\n",
        "| ---- | --------- |\n",
        "| king    | [0.15, 0.2, 0.2, 0.3, 0.5] |\n",
        "| queen   | [0.12, 0.1, 0.19, 0.3, 0.47] |\n",
        "| potato    | [0.13, 0.4, 0.1, 0.15, 0.01] |\n",
        "| `<UNK>`    | [0.01, 0.02, 0.01, 0.4, 0.11] |\n",
        "\n",
        "The embedding I wrote above are numbers that I wrote somewhat randomly. In practice, **the embeddings are learned**. This is the main idea of methods such as [Word2Vec](https://en.wikipedia.org/wiki/Word2vec) and [GloVe](https://nlp.stanford.edu/pubs/glove.pdf). They learn the embeddings of the words in a corpus in such a way that words that appear in similar contexts have similar embeddings. For example, the embeddings of \"king\" and \"queen\" are similar because they appear in similar contexts.\n",
        "\n",
        "[![Word embeddings](https://github.com/osanseviero/hackerllama/blob/main/nbs/blog/posts/sentence_embeddings/embedding.png?raw=1)](https://huggingface.co/spaces/sentence-transformers/embeddings-semantic-search)\n",
        "\n",
        "Some open-source libraries, such as Gensim and fastText, allow you to obtain pre-trained Word2Vec and GloVe embeddings quickly. In the good ol’ days of NLP (2013), people used these models to compute word embeddings, which were helpful as inputs to other models. For example, you can compute the word embeddings of each word in a sentence and then pass that as input to a sci-kit learn classifier to classify the sentiment of the sentence.\n",
        "\n",
        "Glove and Word2Vec have fixed representations. Once they are trained, each word is assigned a fixed vector representation, regardless of their context (so “bank” in “river bank” and “savings bank” would have the same embedding). **Word2vec and GloVe will struggle with words that have multiple meanings.**\n",
        "\n",
        "![The good ol' days of NLP](https://github.com/osanseviero/hackerllama/blob/main/nbs/blog/posts/sentence_embeddings/word2vec_meme.jpeg?raw=1)\n",
        "\n",
        "\n",
        ":::callout\n",
        "\n",
        "Understanding the details of word2vec and GloVe is unnecessary to understand the rest of the blog post and sentence embeddings, so I’ll skip them. I recommend reading this [chapter from the excellent interactive NLP course](https://lena-voita.github.io/nlp_course/word_embeddings.html) if you're interested.\n",
        "\n",
        "As a TL;DR\n",
        "\n",
        "* Word2Vec is trained by passing a very large corpus and training a shallow neural network to predict the surrounding words. Later alternatives predict the center word given the surrounding words.\n",
        "* GloVe is trained by looking at the co-occurrence matrix of words (how often words appear together within a certain distance) and then using that matrix to obtain the embeddings.\n",
        "\n",
        "Word2Vec and GloVe are trained with objectives that ensure that words appearing in similar contexts have similar embeddings.\n",
        "\n",
        ":::"
      ]
    },
    {
      "cell_type": "markdown",
      "metadata": {
        "id": "w2wb3sTftLz0"
      },
      "source": [
        "### Word Embeddings with Transformers\n",
        "\n",
        "More recently, with the advent of transformers, we have new ways to compute embeddings. The embedding is also learned, but instead of training an embedding model and then another model for the specific task, transformers learn useful embeddings in the context of their task. For example, BERT, a popular transformer model, learns word embeddings in the context of masked language modeling (predicting which word to fill in the blank) and next sentence prediction (whether sentence B follows sentence A).\n",
        "\n",
        "Transformers are state-of-the-art in many NLP tasks and can capture contextual information that word2vec and GloVe cannot capture, thanks to a mechanism called attention. Attention allows the model to weigh other words' importance and capture contextual information. For example, in the sentence “I went to the bank to deposit money”, the word “bank” is ambiguous. Is it a river bank or a savings bank? The model can use the word “deposit” to understand that it’s a savings bank. These are **contextualized embeddings** - their word embedding can differ based on their surrounding words."
      ]
    },
    {
      "cell_type": "markdown",
      "metadata": {
        "id": "VRtp3g1rtLz0"
      },
      "source": [
        "Ok...we talked a lot about word embeddings; time to run some code. Let's use a pre-trained transformer model, [bert-base-uncased](https://huggingface.co/bert-base-uncased), and obtain some word embeddings. We'll use the `transformers` library for this. Let's begin by loading the model and its tokenizer"
      ]
    },
    {
      "cell_type": "code",
      "execution_count": 10,
      "metadata": {
        "id": "QHvd7VAOtLz0"
      },
      "outputs": [
        {
          "data": {
            "application/vnd.jupyter.widget-view+json": {
              "model_id": "967cb087b2844b00935d857552858f11",
              "version_major": 2,
              "version_minor": 0
            },
            "text/plain": [
              "tokenizer_config.json:   0%|          | 0.00/48.0 [00:00<?, ?B/s]"
            ]
          },
          "metadata": {},
          "output_type": "display_data"
        },
        {
          "data": {
            "application/vnd.jupyter.widget-view+json": {
              "model_id": "0017558f7f754e7bbc6ecb1e3ce87fe9",
              "version_major": 2,
              "version_minor": 0
            },
            "text/plain": [
              "config.json:   0%|          | 0.00/570 [00:00<?, ?B/s]"
            ]
          },
          "metadata": {},
          "output_type": "display_data"
        },
        {
          "data": {
            "application/vnd.jupyter.widget-view+json": {
              "model_id": "74454728e89f474a97cfb14cd0e82773",
              "version_major": 2,
              "version_minor": 0
            },
            "text/plain": [
              "vocab.txt:   0%|          | 0.00/232k [00:00<?, ?B/s]"
            ]
          },
          "metadata": {},
          "output_type": "display_data"
        },
        {
          "data": {
            "application/vnd.jupyter.widget-view+json": {
              "model_id": "63c93d85171149848a1bc1b82e541442",
              "version_major": 2,
              "version_minor": 0
            },
            "text/plain": [
              "tokenizer.json:   0%|          | 0.00/466k [00:00<?, ?B/s]"
            ]
          },
          "metadata": {},
          "output_type": "display_data"
        },
        {
          "data": {
            "application/vnd.jupyter.widget-view+json": {
              "model_id": "ff2500df91aa4828b92f734dc1318e58",
              "version_major": 2,
              "version_minor": 0
            },
            "text/plain": [
              "model.safetensors:   0%|          | 0.00/440M [00:00<?, ?B/s]"
            ]
          },
          "metadata": {},
          "output_type": "display_data"
        },
        {
          "name": "stderr",
          "output_type": "stream",
          "text": [
            "A parameter name that contains `beta` will be renamed internally to `bias`. Please use a different name to suppress this warning.\n",
            "A parameter name that contains `gamma` will be renamed internally to `weight`. Please use a different name to suppress this warning.\n",
            "A parameter name that contains `beta` will be renamed internally to `bias`. Please use a different name to suppress this warning.\n",
            "A parameter name that contains `gamma` will be renamed internally to `weight`. Please use a different name to suppress this warning.\n",
            "A parameter name that contains `beta` will be renamed internally to `bias`. Please use a different name to suppress this warning.\n",
            "A parameter name that contains `gamma` will be renamed internally to `weight`. Please use a different name to suppress this warning.\n",
            "A parameter name that contains `beta` will be renamed internally to `bias`. Please use a different name to suppress this warning.\n",
            "A parameter name that contains `gamma` will be renamed internally to `weight`. Please use a different name to suppress this warning.\n",
            "A parameter name that contains `beta` will be renamed internally to `bias`. Please use a different name to suppress this warning.\n",
            "A parameter name that contains `gamma` will be renamed internally to `weight`. Please use a different name to suppress this warning.\n",
            "A parameter name that contains `beta` will be renamed internally to `bias`. Please use a different name to suppress this warning.\n",
            "A parameter name that contains `gamma` will be renamed internally to `weight`. Please use a different name to suppress this warning.\n",
            "A parameter name that contains `beta` will be renamed internally to `bias`. Please use a different name to suppress this warning.\n",
            "A parameter name that contains `gamma` will be renamed internally to `weight`. Please use a different name to suppress this warning.\n",
            "A parameter name that contains `beta` will be renamed internally to `bias`. Please use a different name to suppress this warning.\n",
            "A parameter name that contains `gamma` will be renamed internally to `weight`. Please use a different name to suppress this warning.\n",
            "A parameter name that contains `beta` will be renamed internally to `bias`. Please use a different name to suppress this warning.\n",
            "A parameter name that contains `gamma` will be renamed internally to `weight`. Please use a different name to suppress this warning.\n",
            "A parameter name that contains `beta` will be renamed internally to `bias`. Please use a different name to suppress this warning.\n",
            "A parameter name that contains `gamma` will be renamed internally to `weight`. Please use a different name to suppress this warning.\n",
            "A parameter name that contains `beta` will be renamed internally to `bias`. Please use a different name to suppress this warning.\n",
            "A parameter name that contains `gamma` will be renamed internally to `weight`. Please use a different name to suppress this warning.\n",
            "A parameter name that contains `beta` will be renamed internally to `bias`. Please use a different name to suppress this warning.\n",
            "A parameter name that contains `gamma` will be renamed internally to `weight`. Please use a different name to suppress this warning.\n",
            "A parameter name that contains `beta` will be renamed internally to `bias`. Please use a different name to suppress this warning.\n",
            "A parameter name that contains `gamma` will be renamed internally to `weight`. Please use a different name to suppress this warning.\n",
            "A parameter name that contains `beta` will be renamed internally to `bias`. Please use a different name to suppress this warning.\n",
            "A parameter name that contains `gamma` will be renamed internally to `weight`. Please use a different name to suppress this warning.\n",
            "A parameter name that contains `beta` will be renamed internally to `bias`. Please use a different name to suppress this warning.\n",
            "A parameter name that contains `gamma` will be renamed internally to `weight`. Please use a different name to suppress this warning.\n",
            "A parameter name that contains `beta` will be renamed internally to `bias`. Please use a different name to suppress this warning.\n",
            "A parameter name that contains `gamma` will be renamed internally to `weight`. Please use a different name to suppress this warning.\n",
            "A parameter name that contains `beta` will be renamed internally to `bias`. Please use a different name to suppress this warning.\n",
            "A parameter name that contains `gamma` will be renamed internally to `weight`. Please use a different name to suppress this warning.\n",
            "A parameter name that contains `beta` will be renamed internally to `bias`. Please use a different name to suppress this warning.\n",
            "A parameter name that contains `gamma` will be renamed internally to `weight`. Please use a different name to suppress this warning.\n",
            "A parameter name that contains `beta` will be renamed internally to `bias`. Please use a different name to suppress this warning.\n",
            "A parameter name that contains `gamma` will be renamed internally to `weight`. Please use a different name to suppress this warning.\n",
            "A parameter name that contains `beta` will be renamed internally to `bias`. Please use a different name to suppress this warning.\n",
            "A parameter name that contains `gamma` will be renamed internally to `weight`. Please use a different name to suppress this warning.\n",
            "A parameter name that contains `beta` will be renamed internally to `bias`. Please use a different name to suppress this warning.\n",
            "A parameter name that contains `gamma` will be renamed internally to `weight`. Please use a different name to suppress this warning.\n",
            "A parameter name that contains `beta` will be renamed internally to `bias`. Please use a different name to suppress this warning.\n",
            "A parameter name that contains `gamma` will be renamed internally to `weight`. Please use a different name to suppress this warning.\n",
            "A parameter name that contains `beta` will be renamed internally to `bias`. Please use a different name to suppress this warning.\n",
            "A parameter name that contains `gamma` will be renamed internally to `weight`. Please use a different name to suppress this warning.\n",
            "A parameter name that contains `beta` will be renamed internally to `bias`. Please use a different name to suppress this warning.\n",
            "A parameter name that contains `gamma` will be renamed internally to `weight`. Please use a different name to suppress this warning.\n",
            "A parameter name that contains `beta` will be renamed internally to `bias`. Please use a different name to suppress this warning.\n",
            "A parameter name that contains `gamma` will be renamed internally to `weight`. Please use a different name to suppress this warning.\n",
            "A parameter name that contains `beta` will be renamed internally to `bias`. Please use a different name to suppress this warning.\n",
            "A parameter name that contains `gamma` will be renamed internally to `weight`. Please use a different name to suppress this warning.\n"
          ]
        }
      ],
      "source": [
        "from transformers import AutoModel, AutoTokenizer\n",
        "\n",
        "tokenizer = AutoTokenizer.from_pretrained(\"bert-base-uncased\")\n",
        "model = AutoModel.from_pretrained(\"bert-base-uncased\")"
      ]
    },
    {
      "cell_type": "markdown",
      "metadata": {
        "id": "L_Pu8a9YtLz1"
      },
      "source": [
        "We haven’t talked about tokenization so far. Until now, we’ve assumed we split data into words. When using transformers, we divided text into tokens. For example, the word “banking” could be split into two tokens, “bank” and “ing”. The tokenizer is responsible for breaking the data into tokens, and the way it splits the data is model-specific and is a deterministic learning process, which means that the same word will always be split into the same tokens. Let’s see what this looks like in code:"
      ]
    },
    {
      "cell_type": "code",
      "execution_count": 11,
      "metadata": {
        "id": "xgfIBve5tLz1",
        "outputId": "bd776869-f594-458a-bbbe-ed8f5b1c2cfd"
      },
      "outputs": [
        {
          "data": {
            "text/plain": [
              "['[CLS]', 'the', 'king', 'and', 'the', 'queen', 'are', 'happy', '.', '[SEP]']"
            ]
          },
          "execution_count": 11,
          "metadata": {},
          "output_type": "execute_result"
        }
      ],
      "source": [
        "text = \"The king and the queen are happy.\"\n",
        "tokenizer.tokenize(text, add_special_tokens=True)"
      ]
    },
    {
      "cell_type": "markdown",
      "metadata": {
        "id": "qcIuiM8DtLz1"
      },
      "source": [
        "Alright, in this example, each word was a token! (this is not always the case, as we'll soon see). But we also see two things that might be unexpected: `[CLS]` and `[SEP]`. These are special tokens added to the sentence's beginning and end. These are used because BERT was trained with that format. One of BERT's training objectives is next-sentence prediction, which means that it was trained to predict whether two sentences are consecutive. The `[CLS]` token represents the entire sentence, and the `[SEP]` token separates sentences. This will be interesting later when we talk about sentence embeddings."
      ]
    },
    {
      "cell_type": "markdown",
      "metadata": {
        "id": "mdPMHajrtLz2"
      },
      "source": [
        " Let's now obtain the embeddings of each token."
      ]
    },
    {
      "cell_type": "code",
      "execution_count": 12,
      "metadata": {
        "id": "Q2xtaXa0tLz2",
        "outputId": "13a6a3d1-aa55-4cc9-9ec8-ee1c2295c364"
      },
      "outputs": [
        {
          "data": {
            "text/plain": [
              "torch.Size([1, 10, 768])"
            ]
          },
          "execution_count": 12,
          "metadata": {},
          "output_type": "execute_result"
        }
      ],
      "source": [
        "encoded_input = tokenizer(text, return_tensors=\"pt\")\n",
        "output = model(**encoded_input)\n",
        "output[\"last_hidden_state\"].shape"
      ]
    },
    {
      "cell_type": "markdown",
      "metadata": {
        "id": "R4AxP4FbtLz2"
      },
      "source": [
        "Great! BERT is giving us an embedding of 768 values for each token. Each of these tokens has semantic information - **they capture the meaning of the word in the context of the sentence**. Let's see if the embedding corresponding to the word \"king\" in this context is similar to the one in \"queen\"."
      ]
    },
    {
      "cell_type": "code",
      "execution_count": 13,
      "metadata": {
        "id": "QzQiaBPMtLz3",
        "outputId": "bc9ee4f7-7b6c-4b5a-83e3-3fe20a3105ed"
      },
      "outputs": [
        {
          "name": "stdout",
          "output_type": "stream",
          "text": [
            "Shape of embedding torch.Size([768])\n",
            "Similarity between king and queen embedding 0.7920709848403931\n"
          ]
        }
      ],
      "source": [
        "king_embedding = output[\"last_hidden_state\"][0][2]  # 2 is the position of king\n",
        "queen_embedding = output[\"last_hidden_state\"][0][5]  # 5 is the position of queen\n",
        "print(f\"Shape of embedding {king_embedding.shape}\")\n",
        "print(\n",
        "    f\"Similarity between king and queen embedding {util.pytorch_cos_sim(king_embedding, queen_embedding)[0][0]}\"\n",
        ")"
      ]
    },
    {
      "cell_type": "markdown",
      "metadata": {
        "id": "LCL__si4tLz3"
      },
      "source": [
        "Ok, it seems they are quite similar in this context! Let’s now look at the word “happy”."
      ]
    },
    {
      "cell_type": "code",
      "execution_count": 14,
      "metadata": {
        "id": "aXz7mqTFtLz3",
        "outputId": "4ea1e51d-eff8-493f-8970-24cbc6d51318"
      },
      "outputs": [
        {
          "data": {
            "text/plain": [
              "tensor([[0.5239]], grad_fn=<MmBackward0>)"
            ]
          },
          "execution_count": 14,
          "metadata": {},
          "output_type": "execute_result"
        }
      ],
      "source": [
        "happy_embedding = output.last_hidden_state[0][7]  # happy\n",
        "util.pytorch_cos_sim(king_embedding, happy_embedding)"
      ]
    },
    {
      "cell_type": "markdown",
      "metadata": {
        "id": "xzp5_bYYtLz9"
      },
      "source": [
        "This makes sense; the queen embedding is more similar to the king than the happy embedding.\n",
        "\n",
        "Let's now look at how the same word can have different values depending on the context:"
      ]
    },
    {
      "cell_type": "code",
      "execution_count": 15,
      "metadata": {
        "id": "UsWVp_BKtLz9",
        "outputId": "40c7c3e2-597a-495d-b86a-a2a08ff9430e"
      },
      "outputs": [
        {
          "data": {
            "text/plain": [
              "torch.Size([1, 7, 768])"
            ]
          },
          "execution_count": 15,
          "metadata": {},
          "output_type": "execute_result"
        }
      ],
      "source": [
        "text = \"The angry and unhappy king\"\n",
        "encoded_input = tokenizer(text, return_tensors=\"pt\")\n",
        "output = model(**encoded_input)\n",
        "output[\"last_hidden_state\"].shape"
      ]
    },
    {
      "cell_type": "code",
      "execution_count": 16,
      "metadata": {
        "id": "4pQH6wpCtLz9",
        "outputId": "e51b6966-4505-4576-b39b-48b9b65daa42"
      },
      "outputs": [
        {
          "data": {
            "text/plain": [
              "['[CLS]', 'the', 'angry', 'and', 'unhappy', 'king', '[SEP]']"
            ]
          },
          "execution_count": 16,
          "metadata": {},
          "output_type": "execute_result"
        }
      ],
      "source": [
        "tokenizer.tokenize(text, add_special_tokens=True)"
      ]
    },
    {
      "cell_type": "code",
      "execution_count": 17,
      "metadata": {
        "id": "qKSg_JXrtLz-",
        "outputId": "f49046e5-a524-417a-a254-62c77b7c3c59"
      },
      "outputs": [
        {
          "data": {
            "text/plain": [
              "tensor([[0.5740]], grad_fn=<MmBackward0>)"
            ]
          },
          "execution_count": 17,
          "metadata": {},
          "output_type": "execute_result"
        }
      ],
      "source": [
        "king_embedding_2 = output[\"last_hidden_state\"][0][5]\n",
        "util.pytorch_cos_sim(king_embedding, king_embedding_2)"
      ]
    },
    {
      "cell_type": "markdown",
      "metadata": {
        "id": "zNENQep8tLz-"
      },
      "source": [
        "Wow! Although both embeddings seem to correspond to the \"king\" embedding, they are pretty different in the vector space. What is going on? Remember that these are contextual embeddings. The context of the first sentence is quite positive, while the second sentence is quite negative. Hence, the embeddings are different."
      ]
    },
    {
      "cell_type": "markdown",
      "metadata": {
        "id": "SPpWNF4ytLz-"
      },
      "source": [
        "Previously, we discussed how the tokenizer might split a word into multiple tokens. A valid question is how we would obtain the word embedding in such a case. Let’s look at an example with the long word “tokenization.”"
      ]
    },
    {
      "cell_type": "code",
      "execution_count": 18,
      "metadata": {
        "id": "522jOWkqtLz-",
        "outputId": "7ebf2660-55b7-4a50-9d7f-28451c57222c"
      },
      "outputs": [
        {
          "data": {
            "text/plain": [
              "['token', '##ization']"
            ]
          },
          "execution_count": 18,
          "metadata": {},
          "output_type": "execute_result"
        }
      ],
      "source": [
        "tokenizer.tokenize(\"tokenization\")"
      ]
    },
    {
      "cell_type": "markdown",
      "metadata": {
        "id": "GWPcU1qAtLz-"
      },
      "source": [
        "The word \"tokenization\" was split into two tokens, but we care about the embedding of \"tokenization\"! What can we do? We can do a **pooling strategy** in which we obtain the embedding of each token and then average them to obtain the word embedding. Let's try it out!\n",
        "\n",
        "As before, we get started by tokenizing the test and running the token IDs through the model."
      ]
    },
    {
      "cell_type": "code",
      "execution_count": 19,
      "metadata": {
        "id": "QUpbmIc1tLz-"
      },
      "outputs": [],
      "source": [
        "text = \"this is about tokenization\"\n",
        "\n",
        "encoded_input = tokenizer(text, return_tensors=\"pt\")\n",
        "output = model(**encoded_input)"
      ]
    },
    {
      "cell_type": "markdown",
      "metadata": {
        "id": "E-Y7N9untLz-"
      },
      "source": [
        "Let's look at the tokenization of the sentence:"
      ]
    },
    {
      "cell_type": "code",
      "execution_count": 20,
      "metadata": {
        "id": "gfOb0uiltLz_",
        "outputId": "0abd67ef-9940-4d09-cb12-730dab57357a"
      },
      "outputs": [
        {
          "data": {
            "text/plain": [
              "['[CLS]', 'this', 'is', 'about', 'token', '##ization', '[SEP]']"
            ]
          },
          "execution_count": 20,
          "metadata": {},
          "output_type": "execute_result"
        }
      ],
      "source": [
        "tokenizer.tokenize(text, add_special_tokens=True)"
      ]
    },
    {
      "cell_type": "markdown",
      "metadata": {
        "id": "hA5lm5iptLz_"
      },
      "source": [
        "So we want to pool the embeddings of the tokens 4 and 5 by averaging them. Let's first obtain the embeddings of the tokens."
      ]
    },
    {
      "cell_type": "code",
      "execution_count": 21,
      "metadata": {
        "id": "VG8uypgftLz_",
        "outputId": "d4c64894-6110-430c-857a-4248c0029094"
      },
      "outputs": [
        {
          "data": {
            "text/plain": [
              "torch.Size([2, 768])"
            ]
          },
          "execution_count": 21,
          "metadata": {},
          "output_type": "execute_result"
        }
      ],
      "source": [
        "word_token_indices = [4, 5]\n",
        "word_embeddings = output[\"last_hidden_state\"][0, word_token_indices]\n",
        "word_embeddings.shape"
      ]
    },
    {
      "cell_type": "markdown",
      "metadata": {
        "id": "S_hdK0yJtLz_"
      },
      "source": [
        "And now let's average them using `torch.mean`."
      ]
    },
    {
      "cell_type": "code",
      "execution_count": 22,
      "metadata": {
        "id": "sVOR_aKytLz_",
        "outputId": "17bd2385-4059-4a3f-dfe7-528c5c400f54"
      },
      "outputs": [
        {
          "data": {
            "text/plain": [
              "torch.Size([768])"
            ]
          },
          "execution_count": 22,
          "metadata": {},
          "output_type": "execute_result"
        }
      ],
      "source": [
        "import torch\n",
        "\n",
        "torch.mean(word_embeddings, dim=0).shape"
      ]
    },
    {
      "cell_type": "markdown",
      "metadata": {
        "id": "7y-57MhOtL0A"
      },
      "source": [
        "Let's wrap all of it in a function so we can easily use it later."
      ]
    },
    {
      "cell_type": "code",
      "execution_count": 23,
      "metadata": {
        "id": "kF67vLmFtL0A"
      },
      "outputs": [],
      "source": [
        "def get_word_embedding(text, word):\n",
        "    # Encode the text and do a forward pass through the model to get the hidden states\n",
        "    encoded_input = tokenizer(text, return_tensors=\"pt\")\n",
        "    with torch.no_grad():  # We don't need gradients for embedding extraction\n",
        "        output = model(**encoded_input)\n",
        "\n",
        "    # Find the indices for the word\n",
        "    word_ids = tokenizer.encode(\n",
        "        word, add_special_tokens=False\n",
        "    )  # No special tokens anymore\n",
        "    word_token_indices = [\n",
        "        i\n",
        "        for i, token_id in enumerate(encoded_input[\"input_ids\"][0])\n",
        "        if token_id in word_ids\n",
        "    ]\n",
        "\n",
        "    # Pool the embeddings for the word\n",
        "    word_embeddings = output[\"last_hidden_state\"][0, word_token_indices]\n",
        "    return torch.mean(word_embeddings, dim=0)"
      ]
    },
    {
      "cell_type": "markdown",
      "metadata": {
        "id": "PiD7_5XAtL0A"
      },
      "source": [
        "**Example 1.** Similarity between king and queen embeddings in the context of both being angry."
      ]
    },
    {
      "cell_type": "code",
      "execution_count": 24,
      "metadata": {
        "id": "9flHhxkjtL0B",
        "outputId": "07e5cb0a-229a-4b7c-ea2c-90bb3bf2cb24"
      },
      "outputs": [
        {
          "data": {
            "text/plain": [
              "tensor([[0.8564]])"
            ]
          },
          "execution_count": 24,
          "metadata": {},
          "output_type": "execute_result"
        }
      ],
      "source": [
        "util.pytorch_cos_sim(\n",
        "    get_word_embedding(\"The king is angry\", \"king\"),\n",
        "    get_word_embedding(\"The queen is angry\", \"queen\"),\n",
        ")"
      ]
    },
    {
      "cell_type": "markdown",
      "metadata": {
        "id": "uCSEeF2ktL0B"
      },
      "source": [
        "**Example 2.** Similarity between king and queen embeddings in the context of the king being happy and the queen angry. Notice how they are less similar than in the previous example."
      ]
    },
    {
      "cell_type": "code",
      "execution_count": 25,
      "metadata": {
        "id": "mGKyTo3etL0B",
        "outputId": "03b55dd7-26ea-40ec-a537-a98e9447a2a9"
      },
      "outputs": [
        {
          "data": {
            "text/plain": [
              "tensor([[0.8273]])"
            ]
          },
          "execution_count": 25,
          "metadata": {},
          "output_type": "execute_result"
        }
      ],
      "source": [
        "util.pytorch_cos_sim(\n",
        "    get_word_embedding(\"The king is happy\", \"king\"),\n",
        "    get_word_embedding(\"The queen is angry\", \"queen\"),\n",
        ")"
      ]
    },
    {
      "cell_type": "markdown",
      "metadata": {
        "id": "NbBh06RctL0C"
      },
      "source": [
        "**Example 3**. Similarity between king embeddings in two very different contexts. Even if they are the same word, the different context of the word makes the embeddings very different."
      ]
    },
    {
      "cell_type": "code",
      "execution_count": 26,
      "metadata": {
        "id": "DHfqm924tL0C",
        "outputId": "418fec57-b022-46ff-fc5a-7521564eb6eb"
      },
      "outputs": [
        {
          "data": {
            "text/plain": [
              "tensor([[0.5740]])"
            ]
          },
          "execution_count": 26,
          "metadata": {},
          "output_type": "execute_result"
        }
      ],
      "source": [
        "# This is same as before\n",
        "util.pytorch_cos_sim(\n",
        "    get_word_embedding(\"The king and the queen are happy.\", \"king\"),\n",
        "    get_word_embedding(\"The angry and unhappy king\", \"king\"),\n",
        ")"
      ]
    },
    {
      "cell_type": "markdown",
      "metadata": {
        "id": "mbdaZFnntL0C"
      },
      "source": [
        "**Example 4.** Similarity between a word that has two different meanings. The word \"bank\" is ambiguous, it can be a river bank or a savings bank. The embeddings are different depending on the context."
      ]
    },
    {
      "cell_type": "code",
      "execution_count": 27,
      "metadata": {
        "id": "81J0MQJJtL0C",
        "outputId": "681a1ca0-db0d-484b-b823-8a3e27a5eb7a"
      },
      "outputs": [
        {
          "data": {
            "text/plain": [
              "tensor([[0.7587]])"
            ]
          },
          "execution_count": 27,
          "metadata": {},
          "output_type": "execute_result"
        }
      ],
      "source": [
        "util.pytorch_cos_sim(\n",
        "    get_word_embedding(\"The river bank\", \"bank\"),\n",
        "    get_word_embedding(\"The savings bank\", \"bank\"),\n",
        ")"
      ]
    },
    {
      "cell_type": "markdown",
      "metadata": {
        "id": "VtpP4TkQtL0C"
      },
      "source": [
        "I hope this gave an idea about what word embeddings are. Now that we understand word embeddings let’s look into sentence embeddings!"
      ]
    },
    {
      "cell_type": "markdown",
      "metadata": {
        "id": "9Y1OO-WotL0C"
      },
      "source": [
        "### Sentence Embeddings\n",
        "\n",
        "Just as word embeddings are vector representations of words, sentence embeddings are vector representations of a sentence. We can also compute embeddings of paragraphs and documents! Let’s look into it.\n",
        "\n",
        "There are three approaches we can take: `[CLS]` pooling, max pooling and mean pooling.\n",
        "\n",
        "* Mean pooling means averaging all the word embeddings of the sentence.\n",
        "* Max pooling means taking the maximum value of each dimension of the word embeddings.\n",
        "* `[CLS]` pooling means using the embedding corresponding to the `[CLS]` token as the sentence embedding. Let's look deeper into this last one, which is the least intuitive.\n",
        "\n",
        "#### [CLS] Pooling\n",
        "\n",
        "As we saw before, BERT adds a special token `[CLS]` at the beginning of the sentence. This token is used to represent the entire sentence. For example, when someone wants to fine-tune a BERT model to perform text classification, a common approach is to add a linear layer on top of the `[CLS]` embedding. The idea is that the `[CLS]` token will capture the meaning of the entire sentence.\n",
        "\n",
        "![The hidden state/embedding corresponding to the `CLS` token can be used to fine-tune a classification model.](https://github.com/osanseviero/hackerllama/blob/main/nbs/blog/posts/sentence_embeddings/classification.png?raw=1)\n",
        "\n",
        "We can take the same approach and use the embedding of the [CLS] token as the sentence embedding. Let’s see how this works in code. We’ll use the same sentence as before."
      ]
    },
    {
      "cell_type": "code",
      "execution_count": 28,
      "metadata": {
        "id": "bqehfYLDtL0D",
        "outputId": "57ed576f-1ed7-4661-b8f7-cd40bb69c56d"
      },
      "outputs": [
        {
          "data": {
            "text/plain": [
              "torch.Size([1, 768])"
            ]
          },
          "execution_count": 28,
          "metadata": {},
          "output_type": "execute_result"
        }
      ],
      "source": [
        "encoded_input = tokenizer(\"This is an example sentence\", return_tensors=\"pt\")\n",
        "model_output = model(**encoded_input)\n",
        "sentence_embedding = model_output[\"last_hidden_state\"][:, 0, :]\n",
        "sentence_embedding.shape"
      ]
    },
    {
      "cell_type": "markdown",
      "metadata": {
        "id": "mZtAfshltL0D"
      },
      "source": [
        "Great! We obtained the model output's first embedding, corresponding to the [CLS] token. Let’s wrap this code into a function."
      ]
    },
    {
      "cell_type": "code",
      "execution_count": 29,
      "metadata": {
        "id": "1WRmLVwwtL0D"
      },
      "outputs": [],
      "source": [
        "def cls_pooling(model_output):\n",
        "    return model_output[\"last_hidden_state\"][:, 0, :]\n",
        "\n",
        "\n",
        "def get_sentence_embedding(text):\n",
        "    encoded_input = tokenizer(text, return_tensors=\"pt\")\n",
        "    with torch.no_grad():\n",
        "        model_output = model(**encoded_input)\n",
        "    return cls_pooling(model_output)"
      ]
    },
    {
      "cell_type": "code",
      "execution_count": 30,
      "metadata": {
        "id": "JL7aMUTEtL0D",
        "outputId": "e0b9c34b-8c0c-4579-dffb-b543bf8213a3"
      },
      "outputs": [
        {
          "name": "stdout",
          "output_type": "stream",
          "text": [
            "tensor([[0.9261]]) The weather today is beautiful\n",
            "tensor([[0.8903]]) It's raining!\n",
            "tensor([[0.9317]]) Dogs are awesome\n"
          ]
        }
      ],
      "source": [
        "embeddings = [get_sentence_embedding(sentence) for sentence in sentences]\n",
        "query_embedding = get_sentence_embedding(\"Today is a sunny day\")\n",
        "for embedding, sentence in zip(embeddings, sentences):\n",
        "    similarity = util.pytorch_cos_sim(query_embedding, embedding)\n",
        "    print(similarity, sentence)"
      ]
    },
    {
      "cell_type": "markdown",
      "metadata": {
        "id": "4UM0eyzYtL0D"
      },
      "source": [
        "Hmm...something looks off here 🤔 One would have expected this to work out of the box.\n",
        "\n",
        "Well, it turns out BERT has an additional trick. As mentioned before, when BERT was trained, the CLS token was used to predict whether two sentences were consecutive. To do so, BERT processes the [CLS]-corresponding embedding and passes it through a linear layer and a tanh activation function (see [code here](https://github.com/huggingface/transformers/blob/95754b47a6d4fbdad3440a45762531e8c471c528/src/transformers/models/bert/modeling_bert.py#L652C7-L665)). The idea is that the linear layer and the tanh activation function will learn a better representation of the `[CLS]` token.  This is the `pooler` component of the BERT model and is used to obtain the `model_output.pooler_output`.\n",
        "\n",
        ":::callout\n",
        "\n",
        "This might sound confusing, so let’s repeat what’s happening here.\n",
        "\n",
        "1. BERT outputs the embeddings of each token.\n",
        "2. The first embedding corresponds to the `[CLS]` token.\n",
        "3. The `[CLS]` token is processed through a linear layer and a tanh activation function to obtain the `pooler_output`.\n",
        "\n",
        "During training, the pooler_output is used to predict whether two sentences are consecutive (one of the pre-training tasks of BERT). This makes processing the [CLS] token more meaningful than the raw [CLS] embedding.\n",
        "\n",
        ":::"
      ]
    },
    {
      "cell_type": "markdown",
      "metadata": {
        "id": "_V4_iH-NtL0E"
      },
      "source": [
        "To show that there is no magic going on here, we can either pass the list of word embeddings to `model.pooler` or simply get the `pooler_output` from the model output. Let's try it out!"
      ]
    },
    {
      "cell_type": "code",
      "execution_count": 31,
      "metadata": {
        "id": "2m-V0nWJtL0E",
        "outputId": "2f654370-390a-423c-982c-b4d3d13d894f"
      },
      "outputs": [
        {
          "data": {
            "text/plain": [
              "tensor([-0.9302, -0.4884, -0.4387,  0.8024,  0.3668, -0.3349,  0.9438,  0.3593,\n",
              "        -0.3216, -1.0000], grad_fn=<SliceBackward0>)"
            ]
          },
          "execution_count": 31,
          "metadata": {},
          "output_type": "execute_result"
        }
      ],
      "source": [
        "model.pooler(model_output[\"last_hidden_state\"])[0][:10]"
      ]
    },
    {
      "cell_type": "code",
      "execution_count": 32,
      "metadata": {
        "id": "FFt3bf8QtL0E",
        "outputId": "6e9b803c-7919-4090-c50b-2e1a5f85f9a6"
      },
      "outputs": [
        {
          "data": {
            "text/plain": [
              "tensor([-0.9302, -0.4884, -0.4387,  0.8024,  0.3668, -0.3349,  0.9438,  0.3593,\n",
              "        -0.3216, -1.0000], grad_fn=<SliceBackward0>)"
            ]
          },
          "execution_count": 32,
          "metadata": {},
          "output_type": "execute_result"
        }
      ],
      "source": [
        "model_output[\"pooler_output\"][0][:10]"
      ]
    },
    {
      "cell_type": "markdown",
      "metadata": {
        "id": "KA5h_fwdtL0E"
      },
      "source": [
        "Yay! As you can see, the first ten elements of the embedding are identical! Let’s now re-compute the distances using this new embedding technique:"
      ]
    },
    {
      "cell_type": "code",
      "execution_count": 33,
      "metadata": {
        "id": "1vYsqrpEtL0E",
        "outputId": "fd1780df-b7ba-43a4-da32-4ed71b4ce189"
      },
      "outputs": [
        {
          "name": "stdout",
          "output_type": "stream",
          "text": [
            "tensor([[0.9673]], grad_fn=<MmBackward0>) The weather today is beautiful\n",
            "tensor([[0.9029]], grad_fn=<MmBackward0>) It's raining!\n",
            "tensor([[0.8930]], grad_fn=<MmBackward0>) Dogs are awesome\n"
          ]
        }
      ],
      "source": [
        "def cls_pooling(model_output):\n",
        "    return model.pooler(model_output[\"last_hidden_state\"])  # we changed this\n",
        "\n",
        "\n",
        "# This stays the same\n",
        "embeddings = [get_sentence_embedding(sentence) for sentence in sentences]\n",
        "query_embedding = get_sentence_embedding(\"Today is a sunny day\")\n",
        "for embedding, sentence in zip(embeddings, sentences):\n",
        "    similarity = util.pytorch_cos_sim(query_embedding, embedding)\n",
        "    print(similarity, sentence)"
      ]
    },
    {
      "cell_type": "markdown",
      "metadata": {
        "id": "mcFpjo09tL0F"
      },
      "source": [
        "Much, much better! We just obtained the closest sentences to \"Today is a sunny day\"."
      ]
    },
    {
      "cell_type": "markdown",
      "metadata": {
        "id": "BjUcvA8ztL0F"
      },
      "source": [
        "## Sentence Transformers\n",
        "\n",
        "### Using the transformers library\n",
        "\n",
        "This yields some decent results, but in practice, this was not much better than using Word2Vec or GloVe word embeddings and averaging them. The reason is that the [CLS] token is not trained to be a good sentence embedding. It’s trained to be a good sentence embedding for next-sentence prediction!\n",
        "\n",
        "Introducing 🥁🥁🥁 Sentence Transformers! Sentence Sentence Transformers (also known as SBERT) have a special training technique focusing on yielding high-quality sentence embeddings. Just as in the TL;DR section of this blog post, let's use the [all-MiniLM-L6-v2](https://huggingface.co/sentence-transformers/all-MiniLM-L6-v2) model.  In the beginning, we used the `sentence-transformers` library, which is a high-level wrapper library around `transformers`. Let's try to go the hard way first! The process is as follows:\n",
        "\n",
        "1. We tokenize the input sentence.\n",
        "2. We process the tokens through the model.\n",
        "3. We calculate the mean of the token embeddings.\n",
        "4. We normalize the embeddings to ensure the embedding vector has a unit length."
      ]
    },
    {
      "cell_type": "markdown",
      "metadata": {
        "id": "3aYsR8hJtL0F"
      },
      "source": [
        "Just as before, we can load the model and the tokenizer, tokenize the sentence and pass it to the model"
      ]
    },
    {
      "cell_type": "code",
      "execution_count": 34,
      "metadata": {
        "id": "2RSMj7oWtL0F"
      },
      "outputs": [],
      "source": [
        "tokenizer = AutoTokenizer.from_pretrained(\"sentence-transformers/all-MiniLM-L6-v2\")\n",
        "model = AutoModel.from_pretrained(\"sentence-transformers/all-MiniLM-L6-v2\")\n",
        "encoded_input = tokenizer(\"Today is a sunny day\", return_tensors=\"pt\")\n",
        "model_output = model(**encoded_input)"
      ]
    },
    {
      "cell_type": "markdown",
      "metadata": {
        "id": "Yroh8n_MtL0G"
      },
      "source": [
        "What we’ve done until now is very similar to what we did before, except that we are using a different model. The next step is to do pooling. While previously we did [CLS] pooling, sentence transformers usually use mean or max pooling. Let’s try it out!"
      ]
    },
    {
      "cell_type": "code",
      "execution_count": 35,
      "metadata": {
        "id": "i0NaDt49tL0G",
        "outputId": "8ad7d6b7-efa8-46b4-f743-ec381995d85f"
      },
      "outputs": [
        {
          "data": {
            "text/plain": [
              "torch.Size([1, 7, 384])"
            ]
          },
          "execution_count": 35,
          "metadata": {},
          "output_type": "execute_result"
        }
      ],
      "source": [
        "token_embeddings = model_output[\"last_hidden_state\"]\n",
        "token_embeddings.shape"
      ]
    },
    {
      "cell_type": "markdown",
      "metadata": {
        "id": "8-NLwV5VtL0G"
      },
      "source": [
        "Note how, with this model, each embedding is smaller (384 values rather than 768). We can now compute the mean of the embeddings to obtain the sentence embedding."
      ]
    },
    {
      "cell_type": "code",
      "execution_count": 36,
      "metadata": {
        "id": "PwAKDX-gtL0G",
        "outputId": "d1d5dbd6-92ba-4142-880c-2acaf837ac33"
      },
      "outputs": [
        {
          "data": {
            "text/plain": [
              "torch.Size([1, 384])"
            ]
          },
          "execution_count": 36,
          "metadata": {},
          "output_type": "execute_result"
        }
      ],
      "source": [
        "mean_embedding = torch.mean(token_embeddings, dim=1)\n",
        "mean_embedding.shape"
      ]
    },
    {
      "cell_type": "markdown",
      "metadata": {
        "id": "LOfAw70MtL0H"
      },
      "source": [
        "The last step is to perform normalization. Normalization ensures that the embedding vector has a unit length, which means its length (or magnitude) is 1.\n",
        "\n",
        ":::{.callout-note title=\"What is normalization?\"}\n",
        "\n",
        "To understand why we do normalization, revisiting some vector math is helpful. For a vector v with components (v1, v2, …, vn), it’s length is defined as\n",
        "\n",
        "$$\n",
        "\\| \\mathbf{v} \\| = \\sqrt{v_1^2 + v_2^2 + \\ldots + v_n^2}\n",
        "$$\n",
        "\n",
        "When normalizing a vector, we scale the values so that the vector length is 1. This is done by dividing each vector element by the vector’s magnitude.\n",
        "\n",
        "$$\n",
        "\\mathbf{u} = \\frac{\\mathbf{v}}{\\| \\mathbf{v} \\|}\n",
        "$$\n",
        "\n",
        ":::\n",
        "\n",
        "This is particularly helpful when we want to compare vectors. For example, if we want to compute the cosine similarity between two vectors, we usually compare their direction rather than their magnitude. Normalizing the vectors ensures that each vector contributes equally to the similarity. We’ll talk more about embedding comparisons soon! Let’s try it out!\n",
        "\n",
        ":::{.callout-note}\n",
        "\n",
        "Actually, we are using cosine similarity to compute the similarity between embeddings. As we'll see later in the blog post, the magnitude of the embeddings is not relevant when computing the cosine similarity, but it's still a good think to normalize them in case we want to experiment with other ways to measure distances.\n",
        "\n",
        ":::"
      ]
    },
    {
      "cell_type": "code",
      "execution_count": 37,
      "metadata": {
        "id": "3YYRDTXYtL0H",
        "outputId": "73c24aa1-aaf9-4719-aad5-1a4443b17ed2"
      },
      "outputs": [
        {
          "data": {
            "text/plain": [
              "torch.Size([1, 384])"
            ]
          },
          "execution_count": 37,
          "metadata": {},
          "output_type": "execute_result"
        }
      ],
      "source": [
        "import torch.nn.functional as F\n",
        "\n",
        "normalized_embedding = F.normalize(mean_embedding)\n",
        "normalized_embedding.shape"
      ]
    },
    {
      "cell_type": "markdown",
      "metadata": {
        "id": "qaS6IZ4JtL0H"
      },
      "source": [
        "Let's wrap this in a function!"
      ]
    },
    {
      "cell_type": "code",
      "execution_count": 38,
      "metadata": {
        "id": "BH60WY-XtL0I",
        "outputId": "221e2efa-b9b9-4c14-f822-39cbaef042f5"
      },
      "outputs": [
        {
          "data": {
            "text/plain": [
              "tensor([-0.0163,  0.1041,  0.0974,  0.0742,  0.0375])"
            ]
          },
          "execution_count": 38,
          "metadata": {},
          "output_type": "execute_result"
        }
      ],
      "source": [
        "def mean_pooling(model_output):\n",
        "    return torch.mean(model_output[\"last_hidden_state\"], dim=1)\n",
        "\n",
        "\n",
        "def get_sentence_embedding(text):\n",
        "    encoded_input = tokenizer(text, return_tensors=\"pt\")\n",
        "    with torch.no_grad():\n",
        "        model_output = model(**encoded_input)\n",
        "    sentence_embeddings = mean_pooling(model_output)\n",
        "    return F.normalize(sentence_embeddings)\n",
        "\n",
        "\n",
        "get_sentence_embedding(\"Today is a sunny day\")[0][:5]"
      ]
    },
    {
      "cell_type": "markdown",
      "metadata": {
        "id": "uio2O37CtL0I"
      },
      "source": [
        "In practice, you'll likely be encoding batches of sentences, so we need to make some changes\n",
        "\n",
        "* Modify the tokenization so we apply `truncation` (cutting the sentence if it's longer than the maximum length) and `padding` (adding `[PAD]` tokens to the end of the sentence).\n",
        "* Modify the pooling so we take the attention mask into account. The attention mask is a vector of 0s and 1s that indicates which tokens are real and which are padding. We want to ignore the padding tokens when computing the mean!"
      ]
    },
    {
      "cell_type": "code",
      "execution_count": 39,
      "metadata": {
        "id": "VNKl6LgftL0I"
      },
      "outputs": [],
      "source": [
        "def mean_pooling(model_output, attention_mask):\n",
        "    token_embeddings = model_output[\"last_hidden_state\"]\n",
        "    input_mask_expanded = (\n",
        "        attention_mask.unsqueeze(-1).expand(token_embeddings.size()).float()\n",
        "    )\n",
        "    return torch.sum(token_embeddings, 1) / torch.clamp(\n",
        "        input_mask_expanded.sum(1), min=1e-9\n",
        "    )\n",
        "\n",
        "\n",
        "# This now receives a list of sentences\n",
        "def get_sentence_embedding(sentences):\n",
        "    encoded_input = tokenizer(\n",
        "        sentences, padding=True, truncation=True, return_tensors=\"pt\"\n",
        "    )\n",
        "    with torch.no_grad():\n",
        "        model_output = model(**encoded_input)\n",
        "    sentence_embeddings = mean_pooling(model_output, encoded_input[\"attention_mask\"])\n",
        "    return F.normalize(sentence_embeddings)"
      ]
    },
    {
      "cell_type": "code",
      "execution_count": 40,
      "metadata": {
        "id": "dAYfu0n8tL0I",
        "outputId": "6c62e465-641c-44a7-dd44-410719dacbef"
      },
      "outputs": [
        {
          "data": {
            "text/plain": [
              "tensor([-0.0163,  0.1041,  0.0974,  0.0742,  0.0375])"
            ]
          },
          "execution_count": 40,
          "metadata": {},
          "output_type": "execute_result"
        }
      ],
      "source": [
        "query_embedding = get_sentence_embedding(\"Today is a sunny day\")[0]\n",
        "query_embedding[:5]"
      ]
    },
    {
      "cell_type": "markdown",
      "metadata": {
        "id": "ntwtySk_tL0I"
      },
      "source": [
        "We got the same result, great! Let's now repeat our search example from before."
      ]
    },
    {
      "cell_type": "code",
      "execution_count": 41,
      "metadata": {
        "id": "NU10hOqytL0J",
        "outputId": "e828f931-6fb8-4898-be65-9e028eff5c7b"
      },
      "outputs": [
        {
          "name": "stdout",
          "output_type": "stream",
          "text": [
            "tensor([[0.7344]]) The weather today is beautiful\n",
            "tensor([[0.4180]]) It's raining!\n",
            "tensor([[0.1060]]) Dogs are awesome\n"
          ]
        }
      ],
      "source": [
        "embeddings = [get_sentence_embedding(sentence) for sentence in sentences]\n",
        "for embedding, sentence in zip(embeddings, sentences):\n",
        "    similarity = util.pytorch_cos_sim(query_embedding, embedding)\n",
        "    print(similarity, sentence)"
      ]
    },
    {
      "cell_type": "markdown",
      "metadata": {
        "id": "0kv2zl9rtL0J"
      },
      "source": [
        "Nice! Compared to the vanilla BERT [CLS]-pooled embeddings, the sentence transformer embeddings are more meaningful and have a larger difference between the unrelated vectors!"
      ]
    },
    {
      "cell_type": "markdown",
      "metadata": {
        "id": "lV8S9f7AtL0J"
      },
      "source": [
        ":::callout\n",
        "\n",
        "When to use each pooling strategy? It depends on the task.\n",
        "\n",
        "* `[CLS]` pooling is usually used when the transformer model has been fine-tuned on a specific downstream task that makes the `[CLS]` token very useful.\n",
        "* Mean pooling is usually more effective on models that have not been fine-tuned on a downstream task. It ensures that all parts of the sentence are represented equally in the embedding and can work for long sentences where the influence of all tokens should be captured.\n",
        "* Max pooling can be useful to capture the most important features in a sentence. This can be very useful if particular keywords are very informative, but it might miss the subtler context.\n",
        "\n",
        "In practice, a pooling method will be stored with the model, and you won’t have to worry about it. If there’s no method specified, mean pooling is usually a good default.\n",
        "\n",
        ":::"
      ]
    },
    {
      "cell_type": "markdown",
      "metadata": {
        "id": "3XkndDHZtL0J"
      },
      "source": [
        "### Using the sentence-transformers library\n",
        "\n",
        "This was relatively easy, but the `sentence-transformers` library makes it even easier for us to do all of this! Here is the same code as in the TL;DR section."
      ]
    },
    {
      "cell_type": "code",
      "execution_count": 42,
      "metadata": {
        "id": "Ht6GT2TqtL0J",
        "outputId": "6cf3d692-fbc1-4403-86ca-95161a3a2292"
      },
      "outputs": [
        {
          "name": "stdout",
          "output_type": "stream",
          "text": [
            "tensor([[0.7344]]) The weather today is beautiful\n",
            "tensor([[0.4180]]) It's raining!\n",
            "tensor([[0.1060]]) Dogs are awesome\n"
          ]
        }
      ],
      "source": [
        "from sentence_transformers import SentenceTransformer\n",
        "\n",
        "# We load the model\n",
        "model = SentenceTransformer(\"sentence-transformers/all-MiniLM-L6-v2\")\n",
        "\n",
        "query_embedding = model.encode(\"Today is a sunny day\")\n",
        "embeddings = model.encode(sentences)\n",
        "\n",
        "for embedding, sentence in zip(embeddings, sentences):\n",
        "    similarity = util.pytorch_cos_sim(query_embedding, embedding)\n",
        "    print(similarity, sentence)"
      ]
    },
    {
      "cell_type": "markdown",
      "metadata": {
        "id": "FWmqjx80tL0K"
      },
      "source": [
        "This is quite powerful! If you had to implement a feature to identify duplicate questions without using ML, you would likely have to implement a lexical search system (which looks at exact matches of the input question), a fuzzy search system (which looks at approximate matches of the input question), or a statistical search system (which looks at the frequency of words in the input question).\n",
        "\n",
        "With embeddings, we can easily find similar questions without implementing any of these systems and having excellent results!"
      ]
    },
    {
      "cell_type": "markdown",
      "metadata": {
        "id": "8QCW8S8ltL0K"
      },
      "source": [
        "The following image is a good example of how embeddings can be used to find code that would answer a user’s question.\n",
        "\n",
        "![Image of code search](https://github.com/osanseviero/hackerllama/blob/main/nbs/blog/posts/sentence_embeddings/search.png?raw=1)"
      ]
    },
    {
      "cell_type": "markdown",
      "metadata": {
        "id": "3nFc-udltL0K"
      },
      "source": [
        "### Embedding dimensions\n",
        "\n",
        "As you saw before, the model we used, all-MiniLM-L6-v2, generates sentence embeddings of 384 values. This is a hyperparameter of the model and can be changed. The larger the embedding size, the more information the embedding can capture. However, larger embeddings are more expensive to compute and store.\n",
        "\n",
        "The embeddings of popular open-source models go from 384 to 1024. The best current model, as of the time of writing, has embedding dimensions of 4096 values, but the model is much larger (7 billion parameters) compared to other models. In the closed-sourced world, Cohere has APIs that go from 384 to 4096 dimensions, OpenAI has embeddings of 1536, and so on. **Embedding dimension is a trade-off**. If you use very large embeddings, you will potentially get better results, but you will also have to pay more for hosting and inference. If you use vector databases, you will also have to pay more for storage."
      ]
    },
    {
      "cell_type": "markdown",
      "metadata": {
        "id": "ymBGDJVwtL0K"
      },
      "source": [
        "### Sequence length\n",
        "\n",
        "One of the limitations of transformer models is that they have a maximum sequence length. This means that they can only process a certain number of tokens. For example, BERT has a maximum context length of 512 tokens. This means that if you want to encode a sentence with more than 512 tokens, you will have to find ways to work around this limitation. For example, you could split the sentence into multiple sentences of 512 tokens and then average the embeddings. This is not ideal because the model will not be able to capture the context of the entire sentence.\n",
        "\n",
        "This is not a problem for most use cases, but it can be a problem for long documents. For example, if you want to encode a 1000-word document, you will have to split it into multiple sentences of 512 tokens. This is not ideal because the model will not be able to capture the context of the entire document. Another approach can be to first generate a summary of the text and then encode the summary. This is a good approach if you want to encode long documents, but will require a good summarization model that might be too slow. Alternatively, you might know if a specific part of the document is good (such as abstracts, introductions, conclusions, etc.) and only encode that part if that's the most meaningful part for your task."
      ]
    },
    {
      "cell_type": "markdown",
      "metadata": {
        "id": "8TQgUnOstL0L"
      },
      "source": [
        "## Application 1. Finding most similar Quora duplicate"
      ]
    },
    {
      "cell_type": "markdown",
      "metadata": {
        "id": "xIJWVFhftL0L"
      },
      "source": [
        "We're going to use the open-source [Quora dataset](https://huggingface.co/datasets/quora), which contains 400,000 pairs of questions from Quora. We will not train a model (yet!) and rather just use the embeddings to find similar questions given a new question. Let's get started!\n",
        "\n",
        "Our first step will be to load the data - to do this, we'll use the `datasets` library."
      ]
    },
    {
      "cell_type": "code",
      "execution_count": 43,
      "metadata": {
        "id": "QA0CuQwYtL0L"
      },
      "outputs": [
        {
          "name": "stderr",
          "output_type": "stream",
          "text": [
            "huggingface/tokenizers: The current process just got forked, after parallelism has already been used. Disabling parallelism to avoid deadlocks...\n",
            "To disable this warning, you can either:\n",
            "\t- Avoid using `tokenizers` before the fork if possible\n",
            "\t- Explicitly set the environment variable TOKENIZERS_PARALLELISM=(true | false)\n"
          ]
        }
      ],
      "source": [
        "%%capture\n",
        "!pip install datasets"
      ]
    },
    {
      "cell_type": "code",
      "execution_count": 44,
      "metadata": {
        "id": "FeTaK3lrtL0L",
        "outputId": "596c88b4-ffde-499d-fc5b-91598591df9b"
      },
      "outputs": [
        {
          "data": {
            "application/vnd.jupyter.widget-view+json": {
              "model_id": "5ca05a32379046489f93937724e6e626",
              "version_major": 2,
              "version_minor": 0
            },
            "text/plain": [
              "Downloading builder script:   0%|          | 0.00/2.38k [00:00<?, ?B/s]"
            ]
          },
          "metadata": {},
          "output_type": "display_data"
        },
        {
          "data": {
            "application/vnd.jupyter.widget-view+json": {
              "model_id": "2ff98b3faac54d709736998d70f83fe5",
              "version_major": 2,
              "version_minor": 0
            },
            "text/plain": [
              "Downloading readme:   0%|          | 0.00/5.69k [00:00<?, ?B/s]"
            ]
          },
          "metadata": {},
          "output_type": "display_data"
        },
        {
          "data": {
            "application/vnd.jupyter.widget-view+json": {
              "model_id": "ea1a30b6fd63465bb6df84237e86789c",
              "version_major": 2,
              "version_minor": 0
            },
            "text/plain": [
              "Downloading data files:   0%|          | 0/1 [00:00<?, ?it/s]"
            ]
          },
          "metadata": {},
          "output_type": "display_data"
        },
        {
          "data": {
            "application/vnd.jupyter.widget-view+json": {
              "model_id": "9ae550b1e8b54045a039bc88c66bed8e",
              "version_major": 2,
              "version_minor": 0
            },
            "text/plain": [
              "Downloading data:   0%|          | 0.00/58.2M [00:00<?, ?B/s]"
            ]
          },
          "metadata": {},
          "output_type": "display_data"
        },
        {
          "data": {
            "application/vnd.jupyter.widget-view+json": {
              "model_id": "a03052983dbd4ba3a7731894dd87d1c9",
              "version_major": 2,
              "version_minor": 0
            },
            "text/plain": [
              "Extracting data files:   0%|          | 0/1 [00:00<?, ?it/s]"
            ]
          },
          "metadata": {},
          "output_type": "display_data"
        },
        {
          "data": {
            "application/vnd.jupyter.widget-view+json": {
              "model_id": "a8265559a82d48e19fe267a7b5d5d4d1",
              "version_major": 2,
              "version_minor": 0
            },
            "text/plain": [
              "Generating train split:   0%|          | 0/404290 [00:00<?, ? examples/s]"
            ]
          },
          "metadata": {},
          "output_type": "display_data"
        },
        {
          "data": {
            "text/plain": [
              "Dataset({\n",
              "    features: ['questions', 'is_duplicate'],\n",
              "    num_rows: 404290\n",
              "})"
            ]
          },
          "execution_count": 44,
          "metadata": {},
          "output_type": "execute_result"
        }
      ],
      "source": [
        "from datasets import load_dataset\n",
        "\n",
        "dataset = load_dataset(\"quora\")[\"train\"]\n",
        "dataset"
      ]
    },
    {
      "cell_type": "markdown",
      "metadata": {
        "id": "I9j9e5c4tL0M"
      },
      "source": [
        "To take a quick look at the data within the `Dataset` object, we can convert it to a Pandas `DataFrame` and look at the first rows."
      ]
    },
    {
      "cell_type": "code",
      "execution_count": 45,
      "metadata": {
        "id": "P0T3_bwwtL0M",
        "outputId": "b8f6c21a-4b6c-4fe1-97b7-5daa1888cd86"
      },
      "outputs": [
        {
          "data": {
            "text/html": [
              "<div>\n",
              "<style scoped>\n",
              "    .dataframe tbody tr th:only-of-type {\n",
              "        vertical-align: middle;\n",
              "    }\n",
              "\n",
              "    .dataframe tbody tr th {\n",
              "        vertical-align: top;\n",
              "    }\n",
              "\n",
              "    .dataframe thead th {\n",
              "        text-align: right;\n",
              "    }\n",
              "</style>\n",
              "<table border=\"1\" class=\"dataframe\">\n",
              "  <thead>\n",
              "    <tr style=\"text-align: right;\">\n",
              "      <th></th>\n",
              "      <th>questions</th>\n",
              "      <th>is_duplicate</th>\n",
              "    </tr>\n",
              "  </thead>\n",
              "  <tbody>\n",
              "    <tr>\n",
              "      <th>0</th>\n",
              "      <td>{'id': [1, 2], 'text': ['What is the step by s...</td>\n",
              "      <td>False</td>\n",
              "    </tr>\n",
              "    <tr>\n",
              "      <th>1</th>\n",
              "      <td>{'id': [3, 4], 'text': ['What is the story of ...</td>\n",
              "      <td>False</td>\n",
              "    </tr>\n",
              "    <tr>\n",
              "      <th>2</th>\n",
              "      <td>{'id': [5, 6], 'text': ['How can I increase th...</td>\n",
              "      <td>False</td>\n",
              "    </tr>\n",
              "    <tr>\n",
              "      <th>3</th>\n",
              "      <td>{'id': [7, 8], 'text': ['Why am I mentally ver...</td>\n",
              "      <td>False</td>\n",
              "    </tr>\n",
              "    <tr>\n",
              "      <th>4</th>\n",
              "      <td>{'id': [9, 10], 'text': ['Which one dissolve i...</td>\n",
              "      <td>False</td>\n",
              "    </tr>\n",
              "  </tbody>\n",
              "</table>\n",
              "</div>"
            ],
            "text/plain": [
              "                                           questions  is_duplicate\n",
              "0  {'id': [1, 2], 'text': ['What is the step by s...         False\n",
              "1  {'id': [3, 4], 'text': ['What is the story of ...         False\n",
              "2  {'id': [5, 6], 'text': ['How can I increase th...         False\n",
              "3  {'id': [7, 8], 'text': ['Why am I mentally ver...         False\n",
              "4  {'id': [9, 10], 'text': ['Which one dissolve i...         False"
            ]
          },
          "execution_count": 45,
          "metadata": {},
          "output_type": "execute_result"
        }
      ],
      "source": [
        "dataset.to_pandas().head()"
      ]
    },
    {
      "cell_type": "markdown",
      "metadata": {
        "id": "vHlMujCztL0M"
      },
      "source": [
        "Ok, so each sample is a dictionary. We do not care about the `is_duplicate` column here. Our goal is to find if any question in this dataset is similar to a new question. Let's process the dataset so we only have a list of questions."
      ]
    },
    {
      "cell_type": "code",
      "execution_count": 46,
      "metadata": {
        "id": "7qu8QvMrtL0M",
        "outputId": "d4d758e3-5176-4459-a001-5cb6fd737ab9"
      },
      "outputs": [
        {
          "data": {
            "text/plain": [
              "537362"
            ]
          },
          "execution_count": 46,
          "metadata": {},
          "output_type": "execute_result"
        }
      ],
      "source": [
        "corpus_questions = []\n",
        "for d in dataset:\n",
        "    corpus_questions.append(d[\"questions\"][\"text\"][0])\n",
        "    corpus_questions.append(d[\"questions\"][\"text\"][1])\n",
        "corpus_questions = list(set(corpus_questions))  # Remove duplicates\n",
        "len(corpus_questions)"
      ]
    },
    {
      "cell_type": "markdown",
      "metadata": {
        "id": "2nIAtEpCtL0M"
      },
      "source": [
        "The next step is to embed all the questions. We'll use the `sentence-transformers` library for this. We'll use the [`quora-distilbert-multilingual` model](https://huggingface.co/sentence-transformers/quora-distilbert-multilingual), which is a model trained for 100 languages and is trained specifically for Quora-style questions. This is a larger model, and hence will be slightly slower. It will also generate larger embeddings of 768 values.\n",
        "\n",
        "To get some quick results without having to wait five minutes for the model to process all the questions, we'll only process the first 100000 questions. In practice, you would process all the questions or shuffle the questions and process a random subset of them when experimenting."
      ]
    },
    {
      "cell_type": "code",
      "execution_count": 47,
      "metadata": {
        "colab": {
          "referenced_widgets": [
            "30cc6aa1ede9402ea9cd36fb9aed9376"
          ]
        },
        "id": "MRI_8MrqtL0N",
        "outputId": "e7271e96-a427-4c22-fc00-e4d56fb808dc"
      },
      "outputs": [
        {
          "data": {
            "application/vnd.jupyter.widget-view+json": {
              "model_id": "6be308c168bb452e940918e0151d2149",
              "version_major": 2,
              "version_minor": 0
            },
            "text/plain": [
              "modules.json:   0%|          | 0.00/229 [00:00<?, ?B/s]"
            ]
          },
          "metadata": {},
          "output_type": "display_data"
        },
        {
          "data": {
            "application/vnd.jupyter.widget-view+json": {
              "model_id": "02454441bd9b4e5499e74dca8f1f9492",
              "version_major": 2,
              "version_minor": 0
            },
            "text/plain": [
              "config_sentence_transformers.json:   0%|          | 0.00/122 [00:00<?, ?B/s]"
            ]
          },
          "metadata": {},
          "output_type": "display_data"
        },
        {
          "data": {
            "application/vnd.jupyter.widget-view+json": {
              "model_id": "2b5f4c958a73455a8386d7388906fe39",
              "version_major": 2,
              "version_minor": 0
            },
            "text/plain": [
              "README.md:   0%|          | 0.00/3.77k [00:00<?, ?B/s]"
            ]
          },
          "metadata": {},
          "output_type": "display_data"
        },
        {
          "data": {
            "application/vnd.jupyter.widget-view+json": {
              "model_id": "b0fb5d0aeafd4a2b8ac530f5a364e226",
              "version_major": 2,
              "version_minor": 0
            },
            "text/plain": [
              "sentence_bert_config.json:   0%|          | 0.00/53.0 [00:00<?, ?B/s]"
            ]
          },
          "metadata": {},
          "output_type": "display_data"
        },
        {
          "data": {
            "application/vnd.jupyter.widget-view+json": {
              "model_id": "cda11a2bf3a04a2a96ed7e3069889299",
              "version_major": 2,
              "version_minor": 0
            },
            "text/plain": [
              "config.json:   0%|          | 0.00/572 [00:00<?, ?B/s]"
            ]
          },
          "metadata": {},
          "output_type": "display_data"
        },
        {
          "data": {
            "application/vnd.jupyter.widget-view+json": {
              "model_id": "c13017748e294b8b9fc6e86f47770907",
              "version_major": 2,
              "version_minor": 0
            },
            "text/plain": [
              "model.safetensors:   0%|          | 0.00/539M [00:00<?, ?B/s]"
            ]
          },
          "metadata": {},
          "output_type": "display_data"
        },
        {
          "data": {
            "application/vnd.jupyter.widget-view+json": {
              "model_id": "b019b6290a4342398fd50ec0be1d5cf3",
              "version_major": 2,
              "version_minor": 0
            },
            "text/plain": [
              "tokenizer_config.json:   0%|          | 0.00/447 [00:00<?, ?B/s]"
            ]
          },
          "metadata": {},
          "output_type": "display_data"
        },
        {
          "data": {
            "application/vnd.jupyter.widget-view+json": {
              "model_id": "30ecee8bbcfd4082a613eacd448c585d",
              "version_major": 2,
              "version_minor": 0
            },
            "text/plain": [
              "vocab.txt:   0%|          | 0.00/996k [00:00<?, ?B/s]"
            ]
          },
          "metadata": {},
          "output_type": "display_data"
        },
        {
          "data": {
            "application/vnd.jupyter.widget-view+json": {
              "model_id": "dc6b2b28bfe84c7a82cec7ceaa32ea44",
              "version_major": 2,
              "version_minor": 0
            },
            "text/plain": [
              "tokenizer.json:   0%|          | 0.00/1.96M [00:00<?, ?B/s]"
            ]
          },
          "metadata": {},
          "output_type": "display_data"
        },
        {
          "data": {
            "application/vnd.jupyter.widget-view+json": {
              "model_id": "584f98ccb78040f9a3ba026da8ba259d",
              "version_major": 2,
              "version_minor": 0
            },
            "text/plain": [
              "special_tokens_map.json:   0%|          | 0.00/112 [00:00<?, ?B/s]"
            ]
          },
          "metadata": {},
          "output_type": "display_data"
        },
        {
          "data": {
            "application/vnd.jupyter.widget-view+json": {
              "model_id": "b062c0ab2c444c949987fa7090eb1534",
              "version_major": 2,
              "version_minor": 0
            },
            "text/plain": [
              "1_Pooling/config.json:   0%|          | 0.00/190 [00:00<?, ?B/s]"
            ]
          },
          "metadata": {},
          "output_type": "display_data"
        },
        {
          "data": {
            "application/vnd.jupyter.widget-view+json": {
              "model_id": "05794d6fc5844098942f81d492a1ecdd",
              "version_major": 2,
              "version_minor": 0
            },
            "text/plain": [
              "Batches:   0%|          | 0/3125 [00:00<?, ?it/s]"
            ]
          },
          "metadata": {},
          "output_type": "display_data"
        }
      ],
      "source": [
        "model = SentenceTransformer(\"quora-distilbert-multilingual\")\n",
        "questions_to_embed = 100000\n",
        "corpus_embeddings = model.encode(\n",
        "    corpus_questions[:questions_to_embed],\n",
        "    show_progress_bar=True,\n",
        "    convert_to_tensor=True,\n",
        ")"
      ]
    },
    {
      "cell_type": "code",
      "execution_count": 48,
      "metadata": {
        "id": "lxnj79PbtL0N",
        "outputId": "3f934f98-2b0e-4224-d23f-ed0dc01f2a15"
      },
      "outputs": [
        {
          "data": {
            "text/plain": [
              "torch.Size([100000, 768])"
            ]
          },
          "execution_count": 48,
          "metadata": {},
          "output_type": "execute_result"
        }
      ],
      "source": [
        "corpus_embeddings.shape"
      ]
    },
    {
      "cell_type": "markdown",
      "metadata": {
        "id": "zycpNB58tL0N"
      },
      "source": [
        "We just obtained 100,000 embddings in 20 seconds, even when this Sentence Transformer model is not tiny and I'm running this on my GPU-Poor computer. Unlike generative models, which are autoregressive and usually much slower, BERT-based models are super fast!"
      ]
    },
    {
      "cell_type": "markdown",
      "metadata": {
        "id": "6OPwEEfTtL0N"
      },
      "source": [
        "Let's now write a function that searches the corpus for the most similar question."
      ]
    },
    {
      "cell_type": "code",
      "execution_count": 49,
      "metadata": {
        "id": "qkZRF5AotL0N"
      },
      "outputs": [],
      "source": [
        "import time\n",
        "\n",
        "\n",
        "def search(query):\n",
        "    start_time = time.time()\n",
        "    query_embedding = model.encode(query, convert_to_tensor=True)\n",
        "    results = util.semantic_search(query_embedding, corpus_embeddings)\n",
        "    end_time = time.time()\n",
        "\n",
        "    print(\"Results (after {:.3f} seconds):\".format(end_time - start_time))\n",
        "    # We look at top 5 results\n",
        "    for result in results[0][:5]:\n",
        "        print(\n",
        "            \"{:.3f}\\t{}\".format(result[\"score\"], corpus_questions[result[\"corpus_id\"]])\n",
        "        )"
      ]
    },
    {
      "cell_type": "code",
      "execution_count": 50,
      "metadata": {
        "id": "FrDuwFhntL0O",
        "outputId": "5c45676e-955d-4f74-d0dd-da9aac25aee1"
      },
      "outputs": [
        {
          "name": "stdout",
          "output_type": "stream",
          "text": [
            "Results (after 0.013 seconds):\n",
            "0.988\tHow and from where can I learn Python language via video tutorials online?\n",
            "0.979\tWhich are the best resources to learn Python?\n",
            "0.975\tWhat is the best source to learn Python?\n",
            "0.975\tHow do you learn Python the hard way?\n",
            "0.974\tHow do I learn Python in 5 days?\n"
          ]
        }
      ],
      "source": [
        "search(\"How can I learn Python online?\")"
      ]
    },
    {
      "cell_type": "markdown",
      "metadata": {
        "id": "q42d5DRztL0O"
      },
      "source": [
        "Let's try in Spanish!"
      ]
    },
    {
      "cell_type": "code",
      "execution_count": 51,
      "metadata": {
        "id": "SqEV3d_itL0O",
        "outputId": "8489e8d7-9501-4723-b166-9ae7dfca5c70"
      },
      "outputs": [
        {
          "name": "stdout",
          "output_type": "stream",
          "text": [
            "Results (after 0.013 seconds):\n",
            "0.988\tHow and from where can I learn Python language via video tutorials online?\n",
            "0.978\tWhich are the best resources to learn Python?\n",
            "0.976\tWhat are some good resources to learn web scraping with Python?\n",
            "0.974\tWhat is the best source to learn Python?\n",
            "0.974\tHow do you learn Python the hard way?\n"
          ]
        }
      ],
      "source": [
        "search(\"Como puedo aprender Python online?\")"
      ]
    },
    {
      "cell_type": "markdown",
      "metadata": {
        "id": "ERy7dBmUtL0O"
      },
      "source": [
        "It seems to be working quite well! Note that although our model can process queries in other languages, such as Spanish in the example above, the embeddings were generated for English questions. This means that the model will not be able to find similar questions in other languages."
      ]
    },
    {
      "cell_type": "markdown",
      "metadata": {
        "id": "VNtCFRkNtL0O"
      },
      "source": [
        "## Distance between embeddings\n",
        "\n",
        "### Cosine similarity\n",
        "\n",
        "Until now we've been computing the cosine similarity between embeddings. This is a number between 0 and 1 that indicates how similar two embeddings are. A value of 1 means that the embeddings are identical, while 0 means that the embeddings are entirely different. So far we've used it as a black-box, so let's look into it a bit more.\n",
        "\n",
        "The cosine similarity allows us to compare how similar two vectors are regardless of their magnitude. For example, if we have two vectors, [1, 2, 3] and [2, 4, 6], they are very similar in terms of direction, but their magnitude is different. The cosine similarity will be close to 1, indicating that they are very similar.\n"
      ]
    },
    {
      "cell_type": "code",
      "execution_count": 52,
      "metadata": {
        "id": "IWN_1A1ftL0P",
        "outputId": "0efc1644-9dd8-4aa1-d770-9f9819a8fb9b"
      },
      "outputs": [
        {
          "data": {
            "text/plain": [
              "tensor([[0.9926]])"
            ]
          },
          "execution_count": 52,
          "metadata": {},
          "output_type": "execute_result"
        }
      ],
      "source": [
        "a = torch.FloatTensor([1, 2, 3])\n",
        "b = torch.FloatTensor([2, 3, 4])\n",
        "util.cos_sim(a, b)"
      ]
    },
    {
      "cell_type": "markdown",
      "metadata": {
        "id": "UWkloo9wtL0P"
      },
      "source": [
        "Let's plot both vectors. As you can see, they are very similar in terms of direction, but their magnitude is different."
      ]
    },
    {
      "cell_type": "code",
      "execution_count": 53,
      "metadata": {
        "id": "634dDMNWtL0P",
        "outputId": "7fa4f8b5-92d4-4670-9a48-e3b07189cfc6"
      },
      "outputs": [
        {
          "data": {
            "text/plain": [
              "tensor([1., 2., 3.])"
            ]
          },
          "execution_count": 53,
          "metadata": {},
          "output_type": "execute_result"
        }
      ],
      "source": [
        "a"
      ]
    },
    {
      "cell_type": "code",
      "execution_count": 54,
      "metadata": {
        "id": "fhSIijEItL0P",
        "outputId": "de389673-5cb6-4cb5-f696-d00a3eeed4ff"
      },
      "outputs": [
        {
          "data": {
            "image/png": "[encoded data removed]",
            "text/plain": [
              "<Figure size 640x480 with 1 Axes>"
            ]
          },
          "metadata": {},
          "output_type": "display_data"
        }
      ],
      "source": [
        "import matplotlib.pyplot as plt\n",
        "import numpy as np\n",
        "\n",
        "V = np.array([a.tolist(), b.tolist()])\n",
        "origin = np.array([[0, 0], [0, 0]])  # origin point\n",
        "\n",
        "plt.quiver(*origin, V[:, 0], V[:, 1], color=[\"r\", \"b\", \"g\"], scale=10)\n",
        "plt.show()"
      ]
    },
    {
      "cell_type": "markdown",
      "metadata": {
        "id": "ZvqQWkZ2tL0P"
      },
      "source": [
        "Let's dive into its math. Cosine similarity is defined as the dot product of the vectors divided by the product of their magnitudes:\n",
        "\n",
        "$$\n",
        "\\text{cosine similarity}(\\mathbf{A}, \\mathbf{B}) = \\frac{\\mathbf{A} \\cdot \\mathbf{B}}{\\|\\mathbf{A}\\| \\|\\mathbf{B}\\|}\n",
        "$$"
      ]
    },
    {
      "cell_type": "markdown",
      "metadata": {
        "id": "5UfMeW6PtL0P"
      },
      "source": [
        "We already discussed magnitudes at the beginning of the blog post. We need to compute the square root of the sum of the squares of a vector component\n",
        "\n",
        "$$\n",
        "\\|\\mathbf{A}\\| = \\sqrt{1^2 + 2^2 + 3^2} = \\sqrt{14}\n",
        "$$\n",
        "\n",
        "$$\n",
        "\\|\\mathbf{B}\\| = \\sqrt{2^2 + 3^2 + 4^2} = \\sqrt{29}\n",
        "$$"
      ]
    },
    {
      "cell_type": "markdown",
      "metadata": {
        "id": "lGSVFR4MtL0Q"
      },
      "source": [
        "We also need to compute the dot product of the vectors. The dot product is defined as the sum of the products of the corresponding vector components\n",
        "\n",
        "$$\n",
        "\\mathbf{A} \\cdot \\mathbf{B} = \\sum_{i=1}^{n} A_i B_i\n",
        "$$\n",
        "\n",
        "In this case, the dot product for A and B would look as follows\n",
        "\n",
        "$$\n",
        "\\mathbf{A} \\cdot \\mathbf{B} = 1 \\times 2 + 2 \\times 3 + 3 \\times 4 = 2 + 6 + 12 = 20\n",
        "$$\n",
        "\n",
        "Finally, we can compute the cosine similarity by doing\n",
        "\n",
        "$$\n",
        "\\text{cosine similarity}(\\mathbf{A}, \\mathbf{B}) = \\frac{20}{\\sqrt{14} \\sqrt{29}} = 0.992583\n",
        "$$\n",
        "\n",
        "which matches our result above."
      ]
    },
    {
      "cell_type": "markdown",
      "metadata": {
        "id": "cLaRGDAPtL0Q"
      },
      "source": [
        ":::{.callout-note}\n",
        "\n",
        "Can you think of two vectors with cosine similarity of 1? Think of vectors with same direction but different magnitude.\n",
        "\n",
        ":::"
      ]
    },
    {
      "cell_type": "markdown",
      "metadata": {
        "id": "A7PzX8RYtL0Q"
      },
      "source": [
        "### Dot product\n",
        "\n",
        "Cosine similarity does not take magnitude into account, but there might be use cases where the magnitude is meaningful. In those cases, **dot product** is a better metric. This means that longer or more verbose sentences with similar content could have a higher similarity score than shorter sentences with similar content due to their magnitude.\n",
        "\n",
        "The dot product is defined as the sum of the products of the corresponding vector components (it's what we did before!)\n",
        "\n",
        "$$\n",
        "\\mathbf{A} \\cdot \\mathbf{B} = \\sum_{i=1}^{n} A_i B_i\n",
        "$$\n",
        "\n",
        "If you look at the cosine similarity formula, if you assume the vectors are normalized (that is, their magnitude is 1), the cosine similarity is equivalent to the dot product. This means that the cosine similarity is a normalized dot product.\n",
        "\n",
        "Let's create a new vector, [4, 6, 8]. This vector has the same direction as [2, 3, 4], but it's twice as long. Let's compute the dot product of [1, 2, 3] with [2, 3, 4] and [4, 6, 8]."
      ]
    },
    {
      "cell_type": "code",
      "execution_count": 55,
      "metadata": {
        "id": "9-xQ4RHbtL0R",
        "outputId": "9f61c6a5-8c39-47c4-9cb4-eb9f36243b0a"
      },
      "outputs": [
        {
          "name": "stdout",
          "output_type": "stream",
          "text": [
            "Cosine Similarity between a and b: tensor([[0.9926]])\n",
            "Cosine Similarity between a and c: tensor([[0.9926]])\n",
            "Dot product between a and b: 20.0\n",
            "Dot product between a and c: 40.0\n"
          ]
        }
      ],
      "source": [
        "c = torch.FloatTensor([4, 6, 8])\n",
        "\n",
        "print(f\"Cosine Similarity between a and b: {util.cos_sim(a, b)}\")\n",
        "print(f\"Cosine Similarity between a and c: {util.cos_sim(a, c)}\")\n",
        "\n",
        "print(f\"Dot product between a and b: {torch.dot(a, b)}\")\n",
        "print(f\"Dot product between a and c: {torch.dot(a, c)}\")"
      ]
    },
    {
      "cell_type": "markdown",
      "metadata": {
        "id": "twS7L6AQtL0R"
      },
      "source": [
        "This makes sense! As b and c have the same angle, the cosine similarity is the same between a and b and a and c. However, the dot product is higher for a and c because c is longer than b."
      ]
    },
    {
      "cell_type": "code",
      "execution_count": 56,
      "metadata": {
        "id": "hZTWemLmtL0R",
        "outputId": "fe0705d8-5049-450a-d976-cb8cce7f46ab"
      },
      "outputs": [
        {
          "data": {
            "image/png": "[encoded data removed]",
            "text/plain": [
              "<Figure size 640x480 with 1 Axes>"
            ]
          },
          "metadata": {},
          "output_type": "display_data"
        }
      ],
      "source": [
        "V = np.array([a.tolist(), b.tolist(), c.tolist()])\n",
        "origin = np.array([[0, 0, 0], [0, 0, 0]])  # origin point\n",
        "\n",
        "plt.quiver(*origin, V[:, 0], V[:, 1], color=[\"r\", \"b\", \"g\"], scale=20)\n",
        "plt.show()"
      ]
    },
    {
      "cell_type": "markdown",
      "metadata": {
        "id": "n4OdJ3QttL0R"
      },
      "source": [
        "### Euclidean Distance\n",
        "\n",
        "The Euclidean Distance is the distance between two vectors by measuring a straight line between them. Just as the dot product, the Euclidean distance takes magnitude into account. I won't dive too much into interpreting both metrics, but the main idea is that the Dot Product measures how much one vector extends into the direction of another vector, while the Euclidean Distance measures the straight-line distance between two vectors. It is defined as the square root of the sum of the squared differences between the vector components. It's defined as\n",
        "\n",
        "$$\n",
        "\\text{Euclidean Distance}(\\mathbf{A}, \\mathbf{B}) = \\sqrt{\\sum_{i=1}^{n} (A_i - B_i)^2}\n",
        "$$\n",
        "\n",
        "In practice, you can use the Squared Euclidean (L2-Squared)\n",
        "\n",
        "$$\n",
        "\\text{Squared Euclidean}(\\mathbf{A}, \\mathbf{B}) = \\sum_{i=1}^{n} (A_i - B_i)^2\n",
        "$$"
      ]
    },
    {
      "cell_type": "markdown",
      "metadata": {
        "id": "42ZN3eJ6tL0S"
      },
      "source": [
        "### Picking a score function\n",
        "\n",
        "We just learned about dot-product, cosine similarity, and euclidean distance. When to use which?\n",
        "\n",
        "It depends on the model! Some models will be trained in a way that they produce normalized embeddings. In this case, dot-product, cosine similarity and euclidean distance will all produce the same results.\n",
        "\n",
        "Other models are not trained in a way that they produce normalized embeddings - they are tuned for dot-product. In this case, dot-product will be the best function to find the closest items in a vector space. Even then, if the magnitude is not important, we can normalize as we did in the previous sections. **You can use different distance functions depending on your use case**. Models with normalized embeddings will prefer shorter sentences, while models with non-normalized embeddings will prefer longer sentences. This is because the magnitude of the embeddings will be larger for longer sentences.\n",
        "\n",
        "| Distance function | Values | When to use |\n",
        "| ----------------- | ------ | ----------- |\n",
        "| Cosine similarity | [-1, 1] | When the magnitude is not important |\n",
        "| Dot product       | [-inf, inf] | When the magnitude is important |\n",
        "| Euclidean distance | [0, inf] | When the magnitude is important |\n",
        "\n",
        "To recap:\n",
        "\n",
        "* **Cosine similarity** focuses on the angle between vectors. It's a normalized dot product.\n",
        "* **Dot product** focused on both magnitude and angle.\n",
        "* **Euclidean distance** measures spatial distance between vectors.\n",
        "\n",
        "There are other distance functions, such as Manhattan distance, but these are common ones and useful for our use cases!"
      ]
    },
    {
      "cell_type": "markdown",
      "metadata": {
        "id": "Tix5YhUctL0S"
      },
      "source": [
        "## Scaling Up\n",
        "\n",
        "Until now we've been working with just a couple of sentences. In practice, you might have to deal with millions of embeddings, and we cannot always compute the distance to all of them (this is called brute-force search).\n",
        "\n",
        "One approach is to use an approximate nearest neighbor algorithm. These algorithms partition the data into buckets of similar embeddings. This allows us to quickly find the closest embeddings without having to compute the distance to all of them. This is not exact, as some vectors with high similarity might still be missed. There are different libraries you can use to do this, such as Spotify's [Annoy](https://github.com/spotify/annoy) and Facebook's [Faiss](https://github.com/facebookresearch/faiss). Vector databases such as Pinecone and Weaviate also use nearest neighbor techniques to be able to search millions of objects in milliseconds.\n",
        "\n",
        "For now, let's look at an interesting application where the scaling issues become more apparent."
      ]
    },
    {
      "cell_type": "markdown",
      "metadata": {
        "id": "JEY8knFttL0S"
      },
      "source": [
        "### Application 2. Paraphrase Mining\n",
        "\n",
        "Until now, with semantic search, we've been looking for the sentence most similar to a query sentence. In **paraphrase mining**, the goal is to find texts with similar meaning in a very large corpus. Let's take our Quora dataset and see if we can find similar questions."
      ]
    },
    {
      "cell_type": "code",
      "execution_count": 57,
      "metadata": {
        "id": "ND-RWXsKtL0S",
        "outputId": "c03f2d4b-26ec-4286-ee27-5afaf249a688"
      },
      "outputs": [
        {
          "data": {
            "text/plain": [
              "['',\n",
              " 'Can I dye my hair twice in the same day going darker?',\n",
              " 'Is there any kind of speaker that can play a USB flash drive?',\n",
              " 'What is the best written article you have ever read?',\n",
              " \"What's the difference between IT and COE at NSIT and DTU?\",\n",
              " 'Is pieing without consent legal?',\n",
              " \"Do you feel it is Facebook's fault that people do not research information for themselves and think that fake news is real?\",\n",
              " 'When should I charge my iPhone 7 Plus?',\n",
              " 'Why do some amino acids have more than one codon for their recognition?',\n",
              " 'Which is the worst NYC borough?']"
            ]
          },
          "execution_count": 57,
          "metadata": {},
          "output_type": "execute_result"
        }
      ],
      "source": [
        "questions_to_embed = 10\n",
        "short_corpus_questions = corpus_questions[:questions_to_embed]\n",
        "short_corpus_questions"
      ]
    },
    {
      "cell_type": "code",
      "execution_count": 58,
      "metadata": {
        "id": "UhYGquW3tL0S",
        "outputId": "12a0e9e2-9922-4490-af86-20968fb09227"
      },
      "outputs": [
        {
          "name": "stdout",
          "output_type": "stream",
          "text": [
            "Results (after 0.000 seconds):\n"
          ]
        },
        {
          "data": {
            "text/plain": [
              "tensor([[1.0000, 0.7043, 0.6797, 0.7165, 0.7197, 0.7057, 0.7071, 0.7047, 0.7009,\n",
              "         0.6645],\n",
              "        [0.7043, 1.0000, 0.7279, 0.7031, 0.7568, 0.7737, 0.7469, 0.7460, 0.7722,\n",
              "         0.7182],\n",
              "        [0.6797, 0.7279, 1.0000, 0.6186, 0.7404, 0.7600, 0.7549, 0.7599, 0.7166,\n",
              "         0.6794],\n",
              "        [0.7165, 0.7031, 0.6186, 1.0000, 0.6414, 0.6536, 0.7284, 0.6341, 0.7232,\n",
              "         0.6825],\n",
              "        [0.7197, 0.7568, 0.7404, 0.6414, 1.0000, 0.7664, 0.7656, 0.7218, 0.7725,\n",
              "         0.7437],\n",
              "        [0.7057, 0.7737, 0.7600, 0.6536, 0.7664, 1.0000, 0.7872, 0.7934, 0.7428,\n",
              "         0.7211],\n",
              "        [0.7071, 0.7469, 0.7549, 0.7284, 0.7656, 0.7872, 1.0000, 0.7874, 0.7675,\n",
              "         0.7381],\n",
              "        [0.7047, 0.7460, 0.7599, 0.6341, 0.7218, 0.7934, 0.7874, 1.0000, 0.7028,\n",
              "         0.7187],\n",
              "        [0.7009, 0.7722, 0.7166, 0.7232, 0.7725, 0.7428, 0.7675, 0.7028, 1.0000,\n",
              "         0.6626],\n",
              "        [0.6645, 0.7182, 0.6794, 0.6825, 0.7437, 0.7211, 0.7381, 0.7187, 0.6626,\n",
              "         1.0000]], device='cuda:0')"
            ]
          },
          "execution_count": 58,
          "metadata": {},
          "output_type": "execute_result"
        }
      ],
      "source": [
        "model = SentenceTransformer(\"quora-distilbert-multilingual\")\n",
        "embeddings = model.encode(short_corpus_questions, convert_to_tensor=True)\n",
        "\n",
        "# Compute distance btween all embeddings\n",
        "start_time = time.time()\n",
        "distances = util.pytorch_cos_sim(embeddings, embeddings)\n",
        "end_time = time.time()\n",
        "\n",
        "print(\"Results (after {:.3f} seconds):\".format(end_time - start_time))\n",
        "distances"
      ]
    },
    {
      "cell_type": "markdown",
      "metadata": {
        "id": "Rv6UBdmttL0T"
      },
      "source": [
        "Awesome! We just computed the distances of 10 embeddings vs 10 embeddings. It was quite fast. Let's try now with 1000 queries."
      ]
    },
    {
      "cell_type": "code",
      "execution_count": 59,
      "metadata": {
        "colab": {
          "referenced_widgets": [
            "90f929bf62b04c5180c9573320320d4e"
          ]
        },
        "id": "doaITsjTtL0T",
        "outputId": "4cbe4f03-68d5-421c-9020-7bf55593726c"
      },
      "outputs": [
        {
          "data": {
            "application/vnd.jupyter.widget-view+json": {
              "model_id": "b1cef4668c16478bba40b1323c7a1c16",
              "version_major": 2,
              "version_minor": 0
            },
            "text/plain": [
              "Batches:   0%|          | 0/625 [00:00<?, ?it/s]"
            ]
          },
          "metadata": {},
          "output_type": "display_data"
        },
        {
          "name": "stdout",
          "output_type": "stream",
          "text": [
            "Results (after 0.002 seconds):\n"
          ]
        }
      ],
      "source": [
        "def compute_embeddings_slow(questions, n=10):\n",
        "    embeddings = model.encode(\n",
        "        questions[:n], show_progress_bar=True, convert_to_tensor=True\n",
        "    )\n",
        "\n",
        "    # Compute distance btween all embeddings\n",
        "    start_time = time.time()\n",
        "    distances = util.pytorch_cos_sim(embeddings, embeddings)\n",
        "    end_time = time.time()\n",
        "\n",
        "    return distances, end_time - start_time\n",
        "\n",
        "\n",
        "_, s = compute_embeddings_slow(corpus_questions, 20000)\n",
        "print(\"Results (after {:.3f} seconds):\".format(s))"
      ]
    },
    {
      "cell_type": "markdown",
      "metadata": {
        "id": "EmQLeZN8tL0T"
      },
      "source": [
        "Ok, that's still fast! Let's look at some other values"
      ]
    },
    {
      "cell_type": "code",
      "execution_count": 60,
      "metadata": {
        "colab": {
          "referenced_widgets": [
            "bc00ef68a4dd45ec822cb736f62f0c6d",
            "7ca7ff71b91f48aa9c5776803dabc406",
            "e6de0384bb7e4c5eb497cc1d847f364d",
            "1bcf39b41a744a2da167afeab7359ae7"
          ]
        },
        "id": "8r-gZM-1tL0T",
        "outputId": "3c06f043-b883-4683-f733-59271d8cef71"
      },
      "outputs": [
        {
          "data": {
            "application/vnd.jupyter.widget-view+json": {
              "model_id": "8177e04636d649ec835b578496b45315",
              "version_major": 2,
              "version_minor": 0
            },
            "text/plain": [
              "Batches:   0%|          | 0/1 [00:00<?, ?it/s]"
            ]
          },
          "metadata": {},
          "output_type": "display_data"
        },
        {
          "data": {
            "application/vnd.jupyter.widget-view+json": {
              "model_id": "3c7f3f28d9df48f897844ec9ab3de088",
              "version_major": 2,
              "version_minor": 0
            },
            "text/plain": [
              "Batches:   0%|          | 0/313 [00:00<?, ?it/s]"
            ]
          },
          "metadata": {},
          "output_type": "display_data"
        },
        {
          "data": {
            "application/vnd.jupyter.widget-view+json": {
              "model_id": "d9b2fe011a3b461485b45b278a4f49fe",
              "version_major": 2,
              "version_minor": 0
            },
            "text/plain": [
              "Batches:   0%|          | 0/626 [00:00<?, ?it/s]"
            ]
          },
          "metadata": {},
          "output_type": "display_data"
        },
        {
          "data": {
            "application/vnd.jupyter.widget-view+json": {
              "model_id": "38e12e08c8d1463fa0c8de4aa213ce61",
              "version_major": 2,
              "version_minor": 0
            },
            "text/plain": [
              "Batches:   0%|          | 0/938 [00:00<?, ?it/s]"
            ]
          },
          "metadata": {},
          "output_type": "display_data"
        },
        {
          "data": {
            "text/plain": [
              "Text(0, 0.5, 'Time (seconds)')"
            ]
          },
          "execution_count": 60,
          "metadata": {},
          "output_type": "execute_result"
        },
        {
          "data": {
            "image/png": "[encoded data removed]",
            "text/plain": [
              "<Figure size 640x480 with 1 Axes>"
            ]
          },
          "metadata": {},
          "output_type": "display_data"
        }
      ],
      "source": [
        "import matplotlib.pyplot as plt\n",
        "\n",
        "n_queries = [1, 10001, 20001, 30001]  # If I keep going my computer explodes\n",
        "times = []\n",
        "\n",
        "for n in n_queries:\n",
        "    _, s = compute_embeddings_slow(corpus_questions, n)\n",
        "    times.append(s)\n",
        "    torch.cuda.empty_cache()  # Clear GPU cache\n",
        "\n",
        "plt.plot(n_queries, times)\n",
        "plt.xlabel(\"Number of queries\")\n",
        "plt.ylabel(\"Time (seconds)\")"
      ]
    },
    {
      "cell_type": "markdown",
      "metadata": {
        "id": "Y-BAWiZVtL0T"
      },
      "source": [
        "The algorithm above has a quadratic runtime, so it won't scale up well if we keep increasing the number of queries. For larger collections, we can use the [paraphrase mining technique](https://www.sbert.net/examples/applications/paraphrase-mining/README.html), which is more complex and efficient."
      ]
    },
    {
      "cell_type": "code",
      "execution_count": 61,
      "metadata": {
        "colab": {
          "referenced_widgets": [
            "207c7cf4d03543b9ab3f5edc276cb7fd"
          ]
        },
        "id": "6-sZ2sy3tL0T",
        "outputId": "9f44901e-760a-4210-d438-1fe7ff4d4ae2"
      },
      "outputs": [
        {
          "data": {
            "application/vnd.jupyter.widget-view+json": {
              "model_id": "0d6ff99bcb534abe8887ff8f4a88637b",
              "version_major": 2,
              "version_minor": 0
            },
            "text/plain": [
              "Batches:   0%|          | 0/3125 [00:00<?, ?it/s]"
            ]
          },
          "metadata": {},
          "output_type": "display_data"
        }
      ],
      "source": [
        "start_time = time.time()\n",
        "paraphrases = util.paraphrase_mining(\n",
        "    model, corpus_questions[:100000], show_progress_bar=True\n",
        ")\n",
        "end_time = time.time()"
      ]
    },
    {
      "cell_type": "code",
      "execution_count": 62,
      "metadata": {
        "id": "-Az7EKfvtL0U",
        "outputId": "8581fa25-3d67-4f32-c18f-6d7e0b9bb24d"
      },
      "outputs": [
        {
          "data": {
            "text/plain": [
              "250839"
            ]
          },
          "execution_count": 62,
          "metadata": {},
          "output_type": "execute_result"
        }
      ],
      "source": [
        "len(paraphrases)"
      ]
    },
    {
      "cell_type": "code",
      "execution_count": 63,
      "metadata": {
        "id": "IY8_Ikw8tL0U",
        "outputId": "435d715c-856f-4519-fe82-088bdaef8cbc"
      },
      "outputs": [
        {
          "data": {
            "text/plain": [
              "[[1.0000007152557373, 33521, 42318],\n",
              " [1.0000004768371582, 44919, 52560],\n",
              " [0.9999999403953552, 12964, 16041]]"
            ]
          },
          "execution_count": 63,
          "metadata": {},
          "output_type": "execute_result"
        }
      ],
      "source": [
        "paraphrases[:3]"
      ]
    },
    {
      "cell_type": "markdown",
      "metadata": {
        "id": "M3TxLJWDtL0U"
      },
      "source": [
        "The first value is the score, the second is the index of a corpus question, and the third is another index to a corpus question. The score indicates how similar the two questions are.\n",
        "\n",
        "Nice! We just\n",
        "1. Computed the embeddings of 100,000 questions\n",
        "2. Obtained the most similar sentences, and\n",
        "3. Sorted them\n",
        "\n",
        "All of this in 20 seconds! Let's look at the 5 matches with the highest similariy"
      ]
    },
    {
      "cell_type": "code",
      "execution_count": 64,
      "metadata": {
        "id": "frEIX0xOtL0U",
        "outputId": "aefe0964-fa92-4198-d3d6-b3ca6520beb5"
      },
      "outputs": [
        {
          "name": "stdout",
          "output_type": "stream",
          "text": [
            "1.000\tWhen should I use \"has been\", \"have been\" and \"had been\"? and When should I use \"has been\",\"have been\" and \"had been\"?\n",
            "1.000\tI earn INR 30k/month. After paying rent I save around 10k. How can I save and invest so that after 10years I get a monthly interest of around 6k? and I earn INR 30k/month.After paying rent I save around 10k. How can I save and invest so that after 10years I get a monthly interest of around 6k?\n",
            "1.000\t What is the most beautiful moment in your life? and What is the most beautiful moment in your life?\n",
            "1.000\tHow can I solve physics numericals easily ? and How can I solve physics numericals easily?\n",
            "1.000\tI am going to attempt CPT in June 2016. Is the new syllabus applicable to me? and I am going to attempt CPT in June 2016 . Is the new syllabus applicable to me?\n"
          ]
        }
      ],
      "source": [
        "for score, i, j in paraphrases[:5]:\n",
        "    print(\"{:.3f}\\t{} and {}\".format(score, corpus_questions[i], corpus_questions[j]))"
      ]
    },
    {
      "cell_type": "markdown",
      "metadata": {
        "id": "DvK4_u-otL0U"
      },
      "source": [
        "How does this method work? The corpus is divided into smaller chunks, which allows us to manage the memory and compute usage. There are two ways in which the chunking happens:\n",
        "\n",
        "* **Query Chunk Size:** Determines how many sentences are considered as potential paraphrases. This is the number of sentences that are compared to the query sentence and controlled with `query_chunk_size` (5000 by default).\n",
        "* **Corpus Chunk Size:** Determines how many chunks of the corpus are being compared simultaneously. This is controlled with `corpus_chunk_size` (100000 by default).\n",
        "\n",
        "For example, with the default parameters, the algorithm processes 5000 sentences at a time, comparing each of these against chunks of 100000 sentences from the rest of the corpus. The algorithm is focused on getting the **top matches** - using `top_k`, for each sentence in a query chunk, the algorithm just selects the top k matches from the corpus chunk. This means that the algorithm will not find all the matches, but it will find the top matches. This is a good trade-off as we usually don't need all the matches, but just the top ones.\n",
        "\n",
        "Both parameters make the process more efficient as it's computationally easier to handle smaller subsets of the data. It also helps use less memory as we don't have to load the entire corpus into memory to compute the similarity. Finding the right values for these parameters is a trade-off between speed and accuracy. The larger the values, the more accurate the results, but the slower the algorithm.\n",
        "\n",
        ":::{.callout-note}\n",
        "\n",
        "You can use `max_pairs` to limit the number of pairs returned.\n",
        "\n",
        ":::\n",
        "\n",
        "Here is some pseudocode of the algorithm:\n",
        "\n",
        "```python\n",
        "# Initialize an empty list to store the results\n",
        "results = []\n",
        "\n",
        "for query_chunk in query_chunks:\n",
        "    for corpus_chunk in corpus_chunks:\n",
        "        # Compute the similarity between the query chunk and the corpus chunk\n",
        "        similarity = compute_similarity(query_chunk, corpus_chunk)\n",
        "        # Get the top k matches in the other chunk\n",
        "        top_k_matches = similarity.top_k(top_k)\n",
        "        # Add the top k matches to the results\n",
        "        results.add(top_k_matches)\n",
        "```"
      ]
    },
    {
      "cell_type": "markdown",
      "metadata": {
        "id": "xeYDhlZ5tL0U"
      },
      "source": [
        "## Selecting and evaluating models"
      ]
    },
    {
      "cell_type": "markdown",
      "metadata": {
        "id": "-C2KuYtItL0V"
      },
      "source": [
        "You should have a pretty good understanding of sentence embeddings and what we can do with them. Today, we used two different models, `all-MiniLM-L6-v2` and `quora-distilbert-multilingual`. How do we know which one to use? How do we know if a model is good or not?\n",
        "\n",
        "The first step is to know where to discover sentence embedding models. If you're using open-source ones, the Hugging Face Hub allows you to [filter for them](https://huggingface.co/models?library=sentence-transformers). The community has shared over 4000 models! Although looking at the trending models on Hugging Face is a good indicator (e.g., I can see the Microsoft Multilingual 5 Large model, a decent one), we need more information to pick a model.\n",
        "\n",
        "[MTEB](https://huggingface.co/spaces/mteb/leaderboard) has us covered. This leaderboard contains multiple evaluation datasets for various tasks. Let's quickly look at some criteria we're interested in when picking a model.\n",
        "\n",
        "* **Sequence length.** As discussed before, you might need to encode longer sequences depending on the expected user inputs. For example, if you're encoding long documents, you might need to use a model with a larger sequence length. Another alternative is to split the document into multiple sentences and encode each sentence separately.\n",
        "* **Language.** The leaderboard contains mostly English or multilingual models, but you can also find models for other languages such as Chinese, Polish, Danish, Swedish, German, etc.\n",
        "* **Embedding dimension.** As discussed before, the larger the embedding dimension, the more information the embedding can capture. However, larger embeddings are more expensive to compute and store.\n",
        "* **Average metrics across tasks.** The leaderboard contains multiple tasks, such as clustering, re-ranking, and retrieval. You can look at the average performance across all tasks to get a sense of how good the model is.\n",
        "* **Task-specific metrics.** You can also look at the model's performance in specific tasks. For example, if you're interested in clustering, you can look at the model's performance in the clustering task.\n",
        "\n",
        "Knowing the purpose of the model is also essential. Some models will be generalist models. Others, such as [Specter 2](https://huggingface.co/allenai/specter2), are focused on specific tasks, such as scientific papers. I won't dive too much into all the tasks in the leaderboard, but you can look at the [MTEB paper](https://arxiv.org/abs/2210.07316) for more information. Let me give a brief summary of MTEB.\n",
        "\n",
        "[![MTEB tasks image from the paper](https://github.com/osanseviero/hackerllama/blob/main/nbs/blog/posts/sentence_embeddings/mteb.png?raw=1)](https://arxiv.org/abs/2210.07316)\n",
        "\n",
        "MTEB provides a benchmark of 56 datasets across eight tasks and contains 112 languages. It's easily extensible to add your datasets and models to the leaderboard. Overall, it's a straightforward tool to find the suitable speed-accuracy trade-off for your use case.\n",
        "\n",
        "Today's (Jan 7th, 2024) top model is a large model, E5-Mistral-7B-instruct, which is 14.22Gb in size and an average of 66.63 over the 56 datasets. One of the next best open-source models is BGE-Large-en-v1.5, which is just 1.34Gb and performs an average of 64.23. And the base model for BGE, which is even smaller (0.44Gb), has a quality of 63.55! As a comparison, text-embedding-ada-002, even if it provides larger embeddings of 1536 dimensions, performs with a quality of 60.99. That's number 23 in the MTEB benchmark! Cohere provides better embeddings, with a quality of 64.47 and embeddings of 1024 dimensions.\n",
        "\n",
        "I recommend looking at this [Twitter thread from 2022](https://twitter.com/Nils_Reimers/status/1487014195568775173), in which OpenAI embeddings were compared against other embeddings. The results are quite interesting! The costs were many orders of magnitude higher, and the quality was considerably lower than smaller models.\n",
        "\n",
        "**All of this said, don't overfixate on a single number. You should always look at the specific metrics of your task and the particular resource and speed requirements**\n",
        "\n",
        "It's interesting to look at the different tasks covered in MTEB to understand potential sentence embedding applications better.\n",
        "\n",
        "* **Bitext Mining.** This task involves finding the most similar sentences in two sets of sentences, each in a different language. It is essential for machine translation and cross-lingual search.\n",
        "* **Classification.** In this application, a logistic regression classifier is trained using sentence embeddings for text classification tasks.\n",
        "* **Clustering.** Here, a k-means model is trained on sentence embeddings to group similar sentences together, useful in unsupervised learning tasks.\n",
        "* **Pair Classification.** This task entails predicting whether a pair of sentences are similar, such as determining if they are duplicates or paraphrases, aiding in paraphrase detection.\n",
        "* **Re-ranking.** In this scenario, a list of reference texts is re-ranked based on their similarity to a query sentence, improving search and recommendation systems.\n",
        "* **Retrieval.** This application involves embedding queries and associated documents to find the most similar documents to a given query, crucial in search-related tasks.\n",
        "* **Semantic Similarity.** This task focuses on determining the similarity between a pair of sentences, outputting a continuous similarity score, useful in paraphrase detection and related tasks.\n",
        "* **Summarization.** This involves scoring a set of summaries by computing the similarity between them and a reference (human-written) summary, important in summarization evaluation."
      ]
    },
    {
      "cell_type": "markdown",
      "metadata": {
        "id": "AWe_vF1rtL0V"
      },
      "source": [
        "## Showcase Application: Real-time Embeddings in your browser\n",
        "\n",
        "We won't do the hands-on for this one, but I wanted to show you a cool application of embeddings. Lee Butterman built a [cool app](https://leebutterman.com/wikipedia-search-by-vibes/) where users can search among millions of Wikipedia articles by using embeddings. **What is extra nice here is that this is offline: the embeddings are stored in the browser and the model is running directly in your browser as well - nothing is being sent to a server!** 🤯\n",
        "\n",
        "Preparing the data\n",
        "\n",
        "* We first pre-compute an embedding database. The author used a small yet effective model, all-minilm-l6-v2.\n",
        "* The database of 6 million pages * 384 dimensions * 4 bytes per float = 9.2 GB. This is quite large to have users download that.\n",
        "* The author used a technique called [product quantization](https://en.wikipedia.org/wiki/Vector_quantization) to reduce the size of the database.\n",
        "* The data is then exported to a format called Arrow, which is very compact!\n",
        "\n",
        ":::{.callout-note}\n",
        "\n",
        "Do not worry too much about the specifics here. Our main goal is to understand the high-level idea of this project; so don't be scared if this is the first time you hear the word \"quantization\"!\n",
        "\n",
        ":::\n",
        "\n",
        "At inference time\n",
        "\n",
        "* Lee used [transformers.js](https://github.com/xenova/transformers.js), a library that allows to run transformers models in the browser with JavaScript. This requires having quantized models. Here is an example\n",
        "\n",
        "```js\n",
        "const extractor = await pipeline('feature-extraction', 'Xenova/all-MiniLM-L6-v2');\n",
        "const output = await extractor('This is a simple test.', { pooling: 'mean', normalize: true });\n",
        "// Tensor {\n",
        "//   type: 'float32',\n",
        "//   data: Float32Array [0.09094982594251633, -0.014774246141314507, ...],\n",
        "//   dims: [1, 384]\n",
        "// }\n",
        "```\n",
        "\n",
        "* `transformers.js` downloads the all-MiniLM-L6-v2 model to the browser and is used to compute the embeddings in the browser.\n",
        "* The distance is then computed using [pq.js](https://github.com/lsb/pq.js).\n",
        "\n",
        "Read more about this project in [Lee's blog post](https://www.leebutterman.com/2023/06/01/offline-realtime-embedding-search.html).This is a great example of how embeddings can be used in the browser!"
      ]
    },
    {
      "cell_type": "markdown",
      "metadata": {
        "id": "SezVgh3KtL0V"
      },
      "source": [
        "## The State of the Ecosystem\n",
        "\n",
        "The ecosystem around embeddings is quite large.\n",
        "\n",
        "### Building on top of embeddings:\n",
        "\n",
        "* There are cool tools such as `top2vec` and `bertopic` designed for buildimg topic embeddings.\n",
        "* `keybert` is a library that allows extracting keywords and keyphrases similar to a document using BERT embeddings.\n",
        "* `setfit` is a library that allows doing efficient few-shot fine-tuning of Sentence Transformers to use them for text classification.\n",
        "\n",
        "### Embedding databases\n",
        "\n",
        "2023 has been the year of embedding databases. [LangChain Integrations Section](https://integrations.langchain.com/vectorstores) show 65 vector stores. From Weaviate, Pinecone, and Chroma to Redis, ElasticSearch, and Postgres. Embedding databases are specialized to accelerate similarity search on embeddings, usually using approximate search algorithms. The new wave of embedding database startups has lead to a big amount of money being invested in it. At the same time, classical existing database companies have integrated vector indexes into their products, such as Cassandra and MongoDB.\n",
        "\n",
        "### Research\n",
        "\n",
        "The research around embeddings is also quite active. If you follow the MTEB benchmark, it changes every few weeks. Some of the players in this are are Microsoft (E5 models), Cohere, BAAI (BGE), Alibaba (GTE), NLP Group of The University of Hong Kong (Instructor), and Jina, among many others."
      ]
    },
    {
      "cell_type": "markdown",
      "metadata": {
        "id": "sOgZsUYqtL0V"
      },
      "source": [
        "## Conclusion\n",
        "\n",
        "What a journey! We just went from 0 to 1 in sentence embeddings. We learned about what they are, how to compute them, how to compare them, and how to scale them. We also saw some cool applications of embeddings, such as semantic search and paraphrase mining. I hope this blog post gave you a good understanding of what sentence embeddings are and how to use them. This is the first part of a series. What's left to learn?\n",
        "\n",
        "* The role of vector databases\n",
        "* How to use embeddings for more complex ranking systems\n",
        "* Topic modeling\n",
        "* Multimodality\n",
        "* How to train your own embedding models\n",
        "* All about RAGs\n",
        "\n",
        "There will be a time for each of those! For now, I suggest to take a break to check your knowledge. Don't hesitate to change the code and play with it! If you like this blog post, don't hesitate to [leave a GitHub Star](https://github.com/osanseviero/hackerllama) or share it!"
      ]
    },
    {
      "cell_type": "markdown",
      "metadata": {
        "id": "Scj5iy7QtL0V"
      },
      "source": [
        "## Knowledge Check\n",
        "\n",
        "1. What make transformer models more useful than GloVe or Word2Vec for computing embeddings?\n",
        "2. What is the role of the `[CLS]` token in BERT and how does it help for computing sentence embeddings?\n",
        "3. What's the difference between `pooler_output` and the `[CLS]` token embedding?\n",
        "4. What's the difference between `[CLS]` pooling, max pooling, and mean pooling?\n",
        "5. What is the sequence length limitation of transformer models and how can we work around it?\n",
        "6. When do we need to normalize the embeddings?\n",
        "7. Which two vectors would give a cosine similarity of -1? What about 0?\n",
        "8. Explain the different parameters of the `paraphrase_mining` function.\n",
        "9. How would you choose the best model for your use case?"
      ]
    },
    {
      "cell_type": "markdown",
      "metadata": {
        "id": "pLFwd3BFtL0V"
      },
      "source": [
        "## Resources\n",
        "\n",
        "Here are some useful resources:\n",
        "\n",
        "* [Sentence Transformers](https://www.sbert.net/)\n",
        "* [Hugging Face Hub](https://huggingface.co/models?library=sentence-transformers)\n",
        "* [MTEB Leaderboard](https://huggingface.co/blog/mteb)\n"
      ]
    },
    {
      "cell_type": "markdown",
      "metadata": {
        "id": "WTYdlI0-tL0W"
      },
      "source": []
    }
  ],
  "metadata": {
    "colab": {
      "provenance": []
    },
    "kernelspec": {
      "display_name": "python3",
      "language": "python",
      "name": "python3"
    },
    "language_info": {
      "codemirror_mode": {
        "name": "ipython",
        "version": 3
      },
      "file_extension": ".py",
      "mimetype": "text/x-python",
      "name": "python",
      "nbconvert_exporter": "python",
      "pygments_lexer": "ipython3",
      "version": "3.10.13"
    }
  },
  "nbformat": 4,
  "nbformat_minor": 0
}
